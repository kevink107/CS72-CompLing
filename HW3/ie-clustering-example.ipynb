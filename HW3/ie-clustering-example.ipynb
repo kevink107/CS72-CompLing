{
 "cells": [
  {
   "cell_type": "markdown",
   "metadata": {
    "id": "TbYTfCCV1djd"
   },
   "source": [
    "#Examples for Week 3: Clustering Indo-European Languages\n",
    "Dartmouth College, LING48, Spring 2023<br>\n",
    "Rolando Coto-Solano (Rolando.A.Coto.Solano@dartmouth.edu)<br>\n",
    "\n",
    "Based on Keith Johnson's exercise:<br>https://doc.lagout.org/science/0_Computer%20Science/Computational%20Linguistics/Statistics/johnson2008-quantitative_methods_in_linguistics/6historical.pdf\n"
   ]
  },
  {
   "cell_type": "code",
   "execution_count": 7,
   "metadata": {
    "id": "zmIw9QkK1uwm"
   },
   "outputs": [],
   "source": [
    "# Libraries needed for clustering\n",
    "import pandas as pd\n",
    "from matplotlib import pyplot as plt\n",
    "from scipy.cluster.hierarchy import dendrogram, linkage\n",
    "import numpy as np"
   ]
  },
  {
   "cell_type": "code",
   "execution_count": 8,
   "metadata": {
    "id": "14j11HMb0wyE"
   },
   "outputs": [],
   "source": [
    "# Generation of input file (dyen-ie.csv)\n",
    "\n",
    "csvOutput = \"\"\n",
    "csvOutput += \"lang,animal,bark,bird,black,breathe,w6,w7,w8,w9,w10,w11,w12,w13,w14\\n\"\n",
    "csvOutput += \"Dutch,1,3,4,1,2,3,3,2,1,2,3,1,1,2\\n\"\n",
    "csvOutput += \"Danish,1,1,4,1,5,3,3,2,1,4,3,1,1,2\\n\"\n",
    "csvOutput += \"Swedish,1,1,4,1,5,3,3,2,1,4,3,1,1,2\\n\"\n",
    "csvOutput += \"German,1,2,4,1,2,3,3,2,1,2,3,1,1,2\\n\"\n",
    "csvOutput += \"English,5,1,7,6,7,3,3,3,1,2,3,1,1,2\\n\"\n",
    "csvOutput += \"Slovenian,2,3,5,3,1,2,3,2,1,3,1,2,4,3\\n\"\n",
    "csvOutput += \"Russian,2,3,5,3,1,2,3,2,2,3,1,2,4,3\\n\"\n",
    "csvOutput += \"Polish,2,3,5,3,1,2,3,2,1,3,2,2,4,3\\n\"\n",
    "csvOutput += \"Czech,2,3,5,3,1,2,3,2,1,3,1,2,4,3\\n\"\n",
    "csvOutput += \"Greek,2,6,1,7,3,1,3,2,1,5,3,2,7,6\\n\"\n",
    "csvOutput += \"Kashmiri,3,7,3,2,4,2,2,3,1,7,3,2,5,4\\n\"\n",
    "csvOutput += \"Gujarati,3,4,3,2,4,2,2,1,1,3,5,4,5,7\\n\"\n",
    "csvOutput += \"Marathi,3,4,3,2,4,2,2,1,4,3,3,2,6,4\\n\"\n",
    "csvOutput += \"Hindi,3,4,3,2,4,2,2,1,1,3,3,2,5,4\\n\"\n",
    "csvOutput += \"Waziri,3,5,6,5,4,4,1,2,3,6,4,2,2,5\\n\"\n",
    "csvOutput += \"Portuguese,4,3,2,4,6,2,3,2,1,1,3,2,3,1\\n\"\n",
    "csvOutput += \"Spanish,4,3,2,4,6,2,3,2,1,1,3,2,3,1\\n\"\n",
    "csvOutput += \"Italian,4,3,2,4,6,2,3,2,1,1,3,2,3,1\\n\"\n",
    "csvOutput += \"French,4,3,2,4,6,2,3,2,1,1,3,2,3,1\"\n",
    "\n",
    "f = open(\"dyen-ie.csv\", \"w\")\n",
    "f.write(csvOutput)\n",
    "f.close()"
   ]
  },
  {
   "cell_type": "code",
   "execution_count": 10,
   "metadata": {
    "id": "dmY8LoZ40e02"
   },
   "outputs": [],
   "source": [
    "# Import the dataset\n",
    "url = \"dyen-ie.csv\"\n",
    "df = pd.read_csv(url)\n",
    "df = df.set_index('lang')"
   ]
  },
  {
   "cell_type": "code",
   "execution_count": 12,
   "metadata": {
    "id": "9MjDz4Xu2ZTF"
   },
   "outputs": [
    {
     "data": {
      "text/plain": [
       "array([[ 1.        ,  2.        ,  0.        ,  2.        ],\n",
       "       [ 5.        ,  8.        ,  0.        ,  2.        ],\n",
       "       [15.        , 16.        ,  0.        ,  2.        ],\n",
       "       [17.        , 21.        ,  0.        ,  3.        ],\n",
       "       [18.        , 22.        ,  0.        ,  4.        ],\n",
       "       [ 0.        ,  3.        ,  1.        ,  2.        ],\n",
       "       [ 7.        , 20.        ,  1.        ,  3.        ],\n",
       "       [ 6.        , 25.        ,  1.        ,  4.        ],\n",
       "       [12.        , 13.        ,  3.16227766,  2.        ],\n",
       "       [19.        , 24.        ,  3.74165739,  4.        ],\n",
       "       [11.        , 27.        ,  4.12310563,  3.        ],\n",
       "       [26.        , 28.        ,  4.58257569,  8.        ],\n",
       "       [29.        , 30.        ,  4.58257569, 11.        ],\n",
       "       [10.        , 31.        ,  5.38516481, 12.        ],\n",
       "       [23.        , 32.        ,  5.47722558, 16.        ],\n",
       "       [ 4.        , 33.        ,  6.63324958, 17.        ],\n",
       "       [14.        , 34.        ,  6.63324958, 18.        ],\n",
       "       [ 9.        , 35.        ,  6.8556546 , 19.        ]])"
      ]
     },
     "execution_count": 12,
     "metadata": {},
     "output_type": "execute_result"
    }
   ],
   "source": [
    "# Calculate the distance between each sample\n",
    "Z = linkage(df, 'single')\n",
    "Z"
   ]
  },
  {
   "cell_type": "code",
   "execution_count": 13,
   "metadata": {
    "id": "1BPPy8C72A4c"
   },
   "outputs": [
    {
     "data": {
      "image/png": "[encoded data removed]",
      "text/plain": [
       "<Figure size 432x288 with 1 Axes>"
      ]
     },
     "metadata": {
      "needs_background": "light"
     },
     "output_type": "display_data"
    }
   ],
   "source": [
    "# Make the dendrogram\n",
    "plt.title('Hierarchical Clustering Dendrogram')\n",
    "plt.xlabel('sample index')\n",
    "plt.ylabel('distance (Single)')\n",
    "dendrogram(Z, labels=df.index, orientation=\"left\", truncate_mode='level', leaf_rotation=0, leaf_font_size=6)\n",
    "plt.savefig('ie-dendrogram.pdf')"
   ]
  },
  {
   "cell_type": "code",
   "execution_count": 14,
   "metadata": {
    "colab": {
     "base_uri": "https://localhost:8080/",
     "height": 16
    },
    "id": "0aCYYREf2o5M",
    "outputId": "c19d3c22-5fc2-412f-8fc2-f97fc2d1f594"
   },
   "outputs": [
    {
     "ename": "ModuleNotFoundError",
     "evalue": "No module named 'google'",
     "output_type": "error",
     "traceback": [
      "\u001b[0;31m---------------------------------------------------------------------------\u001b[0m",
      "\u001b[0;31mModuleNotFoundError\u001b[0m                       Traceback (most recent call last)",
      "Input \u001b[0;32mIn [14]\u001b[0m, in \u001b[0;36m<cell line: 2>\u001b[0;34m()\u001b[0m\n\u001b[1;32m      1\u001b[0m \u001b[38;5;66;03m# Download PDF file\u001b[39;00m\n\u001b[0;32m----> 2\u001b[0m \u001b[38;5;28;01mfrom\u001b[39;00m \u001b[38;5;21;01mgoogle\u001b[39;00m\u001b[38;5;21;01m.\u001b[39;00m\u001b[38;5;21;01mcolab\u001b[39;00m \u001b[38;5;28;01mimport\u001b[39;00m files\n\u001b[1;32m      3\u001b[0m files\u001b[38;5;241m.\u001b[39mdownload(\u001b[38;5;124m'\u001b[39m\u001b[38;5;124mie-dendrogram.pdf\u001b[39m\u001b[38;5;124m'\u001b[39m)\n",
      "\u001b[0;31mModuleNotFoundError\u001b[0m: No module named 'google'"
     ]
    }
   ],
   "source": [
    "# Download PDF file\n",
    "from google.colab import files\n",
    "files.download('ie-dendrogram.pdf')"
   ]
  },
  {
   "cell_type": "markdown",
   "metadata": {
    "id": "hh2jqld5FGiv"
   },
   "source": [
    "# Optional: What's in the Z matrix?\n",
    "\n",
    "These are the first lines of the Z matrix:\n",
    "\n",
    "`[ 1.        ,  2.        ,  0.        ,  2.        ],`<br>\n",
    "`[ 5.        ,  8.        ,  0.        ,  2.        ],`<br>\n",
    "`[15.        , 16.        ,  0.        ,  2.        ],`<br>\n",
    "`[17.        , 21.        ,  0.        ,  3.        ]`\n",
    "\n",
    "The first row has the index of the first element to be merged. As you can see, the `df` dataframe goes from index 0-18. So, \"1\" means that you're merging the element in index 1 of `df`, which is Danish. The second row has the index of the second element to be merged. In this case, the element in index 2 is Swedish. The third row has the distance between these two elements. In this case, the distance is zero. The fourth row has the number of elements in each merge. Because we merged Danish and Swedish, there are two elements in this cluster.\n",
    "\n",
    "Here's the most important part: Since you already have occupied the indexes 0 to 18, this new cluster will be assigned the next free index. In this case, this new (Danish+Swedish) cluster will be in index 19.\n",
    "\n",
    "Items in indexes 5 and 8 (Slovenian and Czech) are very close together, so they get merged. This is shown in the second line of `Z`. The next available index is 20, so item 20 will be the cluster that contains [5,8].\n",
    "\n",
    "And so on. For example, items in indexes 15 and 16 (Portuguese and Spanish) get merged. The next available index is 21, so item 21 will be the cluster that contains [15,16].\n",
    "\n",
    "And here comes the interesting part. Look at the fourth line of the `Z` matrix:\n",
    "[17,21,0,3]\n",
    "The first number is the first element to be merged (17:Italian). The second number gives us the second element to be merged. This is the cluster 21 that was created in the third line (15+16, Portuguese+Spanish). The third element is the distance between the two elements that are being merged (i.e. the distance between Portuguese, Spanish and Italian is zero). Finally, the number 3 represents the number of elements in this cluster.\n",
    "\n",
    "And so on. One line at a time, Z will build the clusters and the distances between them.\n",
    "\n",
    "You can find out more in the documentation of SciPy:\n",
    "https://docs.scipy.org/doc/scipy/reference/generated/scipy.cluster.hierarchy.linkage.html\n"
   ]
  },
  {
   "cell_type": "code",
   "execution_count": null,
   "metadata": {
    "id": "NVYjl4pWBSYD"
   },
   "outputs": [],
   "source": [
    "# Function from Keith Arora-Williams\n",
    "# https://stackoverflow.com/questions/7664826/how-to-get-flat-clustering-corresponding-to-color-clusters-in-the-dendrogram-cre/43170608#43170608\n",
    "\n",
    "labels = df.index\n",
    "row_clusters = Z\n",
    "\n",
    "def extract_levels(row_clusters, labels):\n",
    "    clusters = {}\n",
    "    for row in range(row_clusters.shape[0]):\n",
    "        cluster_n = row + len(labels)\n",
    "        # which clusters / labels are present in this row\n",
    "        glob1, glob2 = row_clusters[row, 0], row_clusters[row, 1]\n",
    "\n",
    "        # if this is a cluster, pull the cluster\n",
    "        this_clust = []\n",
    "        for glob in [glob1, glob2]:\n",
    "            if glob > (len(labels)-1):\n",
    "                this_clust += clusters[glob]\n",
    "            # if it isn't, add the label to this cluster\n",
    "            else:\n",
    "                this_clust.append(glob)\n",
    "\n",
    "        clusters[cluster_n] = this_clust\n",
    "    return clusters\n",
    "\n",
    "extract_levels(row_clusters, labels)"
   ]
  },
  {
   "cell_type": "markdown",
   "metadata": {
    "id": "HVk9jrXFb2c5"
   },
   "source": [
    "# Clustering Using K-Means"
   ]
  },
  {
   "cell_type": "code",
   "execution_count": 5,
   "metadata": {
    "id": "NJIBEJ7GZOja"
   },
   "outputs": [
    {
     "ename": "NameError",
     "evalue": "name 'df' is not defined",
     "output_type": "error",
     "traceback": [
      "\u001b[0;31m---------------------------------------------------------------------------\u001b[0m",
      "\u001b[0;31mNameError\u001b[0m                                 Traceback (most recent call last)",
      "Input \u001b[0;32mIn [5]\u001b[0m, in \u001b[0;36m<cell line: 2>\u001b[0;34m()\u001b[0m\n\u001b[1;32m      1\u001b[0m \u001b[38;5;66;03m# Get the names of the languages\u001b[39;00m\n\u001b[0;32m----> 2\u001b[0m languageNames \u001b[38;5;241m=\u001b[39m \u001b[38;5;28mlist\u001b[39m(\u001b[43mdf\u001b[49m\u001b[38;5;241m.\u001b[39mindex)\n\u001b[1;32m      3\u001b[0m languageNames\n",
      "\u001b[0;31mNameError\u001b[0m: name 'df' is not defined"
     ]
    }
   ],
   "source": [
    "# Get the names of the languages\n",
    "languageNames = list(df.index)\n",
    "languageNames"
   ]
  },
  {
   "cell_type": "code",
   "execution_count": 6,
   "metadata": {
    "id": "Zhq4Fb3FYr_V"
   },
   "outputs": [
    {
     "ename": "NameError",
     "evalue": "name 'df' is not defined",
     "output_type": "error",
     "traceback": [
      "\u001b[0;31m---------------------------------------------------------------------------\u001b[0m",
      "\u001b[0;31mNameError\u001b[0m                                 Traceback (most recent call last)",
      "Input \u001b[0;32mIn [6]\u001b[0m, in \u001b[0;36m<cell line: 7>\u001b[0;34m()\u001b[0m\n\u001b[1;32m      5\u001b[0m true_k \u001b[38;5;241m=\u001b[39m \u001b[38;5;241m6\u001b[39m\n\u001b[1;32m      6\u001b[0m model \u001b[38;5;241m=\u001b[39m KMeans(n_clusters\u001b[38;5;241m=\u001b[39mtrue_k, init\u001b[38;5;241m=\u001b[39m\u001b[38;5;124m'\u001b[39m\u001b[38;5;124mk-means++\u001b[39m\u001b[38;5;124m'\u001b[39m, random_state\u001b[38;5;241m=\u001b[39m \u001b[38;5;241m36\u001b[39m)\n\u001b[0;32m----> 7\u001b[0m model\u001b[38;5;241m.\u001b[39mfit(\u001b[43mdf\u001b[49m)\n\u001b[1;32m      9\u001b[0m \u001b[38;5;66;03m# Labels to which each KMeans belongs\u001b[39;00m\n\u001b[1;32m     10\u001b[0m \u001b[38;5;28mprint\u001b[39m(model\u001b[38;5;241m.\u001b[39mlabels_)\n",
      "\u001b[0;31mNameError\u001b[0m: name 'df' is not defined"
     ]
    }
   ],
   "source": [
    "#Use a k-means algorithm to cluster the plays according to lexical similarity\n",
    "from sklearn.cluster import KMeans\n",
    "\n",
    "# Make 10 clusters - add random state to make results reproducible\n",
    "true_k = 6\n",
    "model = KMeans(n_clusters=true_k, init='k-means++', random_state= 36)\n",
    "model.fit(df)\n",
    "\n",
    "# Labels to which each KMeans belongs\n",
    "print(model.labels_)"
   ]
  },
  {
   "cell_type": "code",
   "execution_count": null,
   "metadata": {
    "id": "xwZtyOr_dAzD"
   },
   "outputs": [],
   "source": [
    "for i in range(0, len(languageNames)): \n",
    "  print(languageNames[i] + \": \" + str(model.labels_[i]))"
   ]
  },
  {
   "cell_type": "code",
   "execution_count": null,
   "metadata": {},
   "outputs": [],
   "source": []
  }
 ],
 "metadata": {
  "colab": {
   "collapsed_sections": [],
   "name": "ie-clustering-example.ipynb",
   "provenance": []
  },
  "kernelspec": {
   "display_name": "Python 3 (ipykernel)",
   "language": "python",
   "name": "python3"
  },
  "language_info": {
   "codemirror_mode": {
    "name": "ipython",
    "version": 3
   },
   "file_extension": ".py",
   "mimetype": "text/x-python",
   "name": "python",
   "nbconvert_exporter": "python",
   "pygments_lexer": "ipython3",
   "version": "3.9.1"
  }
 },
 "nbformat": 4,
 "nbformat_minor": 4
}
