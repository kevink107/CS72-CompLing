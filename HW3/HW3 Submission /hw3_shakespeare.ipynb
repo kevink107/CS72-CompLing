{
 "cells": [
  {
   "cell_type": "markdown",
   "metadata": {
    "id": "4uXg1TZGYFvW"
   },
   "source": [
    "# Homework 3.2: Clustering Shakespeare Plays\n",
    "Dartmouth College, LING48, Spring 2023<br>\n",
    "Kevin King (kevin.m.king.24@dartmouth.edu)\n",
    "\n",
    "You can base your code off of:<br>\n",
    "https://pythonprogramminglanguage.com/kmeans-text-clustering/\n",
    "\n",
    "In the program below, we are clustering Shakespeare plays by performing the following steps:\n",
    "1) First, I calculated the tf-idf matrix for the plays and their tokens using the `TfidfVectorizer` in `SciKit-Learn`.\n",
    "2) Second, I used the `KMeans` function to cluster the plays based on lexical similarity and use ten clusters. I printed out the plays and their respective clusters as well as the top terms of each cluster. \n",
    "3) Third, I used the model to predict which cluster the two new documents would fall into using the `transform` function from the `TfidfVectorizer` object and the `predict` function from the `KMeans` object. \n",
    "4) Lastly, I referenced the Indo-European clustering example and made the necessary changes to make a hierarchical clustering dendrogram of the plays. "
   ]
  },
  {
   "cell_type": "code",
   "execution_count": 19,
   "metadata": {
    "executionInfo": {
     "elapsed": 369,
     "status": "ok",
     "timestamp": 1650032581287,
     "user": {
      "displayName": "Rolando Alberto Coto Solano",
      "userId": "11288253141929794550"
     },
     "user_tz": 240
    },
    "id": "XJkzs68uWJQQ"
   },
   "outputs": [],
   "source": [
    "import gdown\n",
    "from sklearn.feature_extraction.text import TfidfVectorizer\n",
    "from sklearn.cluster import KMeans\n",
    "from sklearn.metrics import adjusted_rand_score"
   ]
  },
  {
   "cell_type": "code",
   "execution_count": null,
   "metadata": {},
   "outputs": [],
   "source": []
  },
  {
   "cell_type": "markdown",
   "metadata": {
    "id": "bQVypH8FYfUx"
   },
   "source": [
    "#### Download Shakespeare text and play names"
   ]
  },
  {
   "cell_type": "code",
   "execution_count": 20,
   "metadata": {
    "colab": {
     "base_uri": "https://localhost:8080/",
     "height": 174
    },
    "executionInfo": {
     "elapsed": 3145,
     "status": "ok",
     "timestamp": 1650032584430,
     "user": {
      "displayName": "Rolando Alberto Coto Solano",
      "userId": "11288253141929794550"
     },
     "user_tz": 240
    },
    "id": "YsyfFB-RWww7",
    "outputId": "1861e74e-9cda-425f-ffcd-81ca1c3cd0c6"
   },
   "outputs": [
    {
     "name": "stderr",
     "output_type": "stream",
     "text": [
      "Downloading...\n",
      "From: https://drive.google.com/uc?id=1ulLPpoNEXBhyb8f2CGwEf2sslWBon-y9\n",
      "To: /Users/kevin/Desktop/Dartmouth/2022-23/23S/CS72/HW3/shakespeare.txt\n",
      "100%|██████████████████████████████████████| 5.63M/5.63M [00:00<00:00, 14.6MB/s]\n",
      "Downloading...\n",
      "From: https://drive.google.com/uc?id=1WEoyZG6EB1_jVynGu7mSZxHtUltxZLB7\n",
      "To: /Users/kevin/Desktop/Dartmouth/2022-23/23S/CS72/HW3/shakespearePlayTitles.txt\n",
      "100%|██████████████████████████████████████████| 569/569 [00:00<00:00, 1.91MB/s]\n"
     ]
    },
    {
     "data": {
      "text/plain": [
       "'shakespearePlayTitles.txt'"
      ]
     },
     "execution_count": 20,
     "metadata": {},
     "output_type": "execute_result"
    }
   ],
   "source": [
    "# Download Shakespeare files\n",
    "url = \"https://drive.google.com/uc?id=1ulLPpoNEXBhyb8f2CGwEf2sslWBon-y9\"\n",
    "gdown.download(url, 'shakespeare.txt', quiet=False)\n",
    "url = \"https://drive.google.com/uc?id=1WEoyZG6EB1_jVynGu7mSZxHtUltxZLB7\"\n",
    "gdown.download(url, 'shakespearePlayTitles.txt', quiet=False)"
   ]
  },
  {
   "cell_type": "markdown",
   "metadata": {
    "id": "bzGEqc98YkcJ"
   },
   "source": [
    "#### Read files and split the lines"
   ]
  },
  {
   "cell_type": "code",
   "execution_count": 21,
   "metadata": {
    "executionInfo": {
     "elapsed": 6,
     "status": "ok",
     "timestamp": 1650032584431,
     "user": {
      "displayName": "Rolando Alberto Coto Solano",
      "userId": "11288253141929794550"
     },
     "user_tz": 240
    },
    "id": "CuF-DSMaXxkB"
   },
   "outputs": [],
   "source": [
    "titles = 'shakespearePlayTitles.txt'\n",
    "allText = 'shakespeare.txt'\n",
    "textBoundary = '<<NEWTEXTSTARTSHERE>>'\n",
    "\n",
    "playTitles = open(titles, \"r\", encoding=\"utf8\").read()\n",
    "playTitles = playTitles.split(\"\\n\")\n",
    "\n",
    "playScripts = open(allText, \"r\", encoding=\"utf8\").read()\n",
    "playScripts = playScripts.split(textBoundary)"
   ]
  },
  {
   "cell_type": "markdown",
   "metadata": {},
   "source": [
    "#### Calculate tf-idf matrix for plays and tokens"
   ]
  },
  {
   "cell_type": "code",
   "execution_count": 22,
   "metadata": {},
   "outputs": [],
   "source": [
    "vectorizer = TfidfVectorizer(stop_words='english')\n",
    "X = vectorizer.fit_transform(playScripts)"
   ]
  },
  {
   "cell_type": "markdown",
   "metadata": {},
   "source": [
    "#### K-Means Clustering "
   ]
  },
  {
   "cell_type": "code",
   "execution_count": 54,
   "metadata": {},
   "outputs": [
    {
     "name": "stdout",
     "output_type": "stream",
     "text": [
      "AllsWellThatEndsWell 2\n",
      "AntonyCleopatra 3\n",
      "AsYouLikeIt 1\n",
      "ComedyErrors 1\n",
      "Coriolanus 1\n",
      "Cymbeline 1\n",
      "Hamlet 5\n",
      "KingHenry4.1 4\n",
      "KingHenry4.2 4\n",
      "KingHenry5 2\n",
      "KingHenry6.1 2\n",
      "KingHenry6.2 2\n",
      "KingHenry6.3 2\n",
      "KingHenry8 2\n",
      "KingJohn 2\n",
      "JuliusCaesar 3\n",
      "KingLear 2\n",
      "LovesLabourLost 1\n",
      "MacBeth 8\n",
      "MeasureForMeasure 2\n",
      "MerchantVenice 0\n",
      "WivesWindsor 4\n",
      "MidsummerNightsDream 1\n",
      "MuchAdo 6\n",
      "Othello 1\n",
      "Pericles 9\n",
      "KingRichard2 2\n",
      "KingRichard3 2\n",
      "RomeoJuliet 1\n",
      "TamingShrew 1\n",
      "Tempest 1\n",
      "Timon 1\n",
      "TitusAndronicus 1\n",
      "TroilusCressida 1\n",
      "12Night 7\n",
      "GentlemenVerona 1\n",
      "NobleKinsmen 1\n",
      "WintersTale 1\n",
      "LoversComplaint 1\n",
      "PassionatePilgrim 1\n",
      "PhoenixTurtle 1\n",
      "VenusAdonis 1\n"
     ]
    }
   ],
   "source": [
    "# k-means model \n",
    "model = KMeans(n_clusters=10, init='k-means++', max_iter=100, n_init=1)\n",
    "model.fit(X)\n",
    "\n",
    "# prints out the play titles and their associated clusters\n",
    "for i, title in enumerate(playTitles):\n",
    "    print(title, model.labels_[i])"
   ]
  },
  {
   "cell_type": "code",
   "execution_count": 55,
   "metadata": {},
   "outputs": [
    {
     "name": "stdout",
     "output_type": "stream",
     "text": [
      "Top terms per cluster:\n",
      "Cluster 0:\n",
      " portia\n",
      " bassanio\n",
      " shylock\n",
      " launcelot\n",
      " lorenzo\n",
      " antonio\n",
      " gratiano\n",
      " nerissa\n",
      " jessica\n",
      " salerio\n",
      "Cluster 1:\n",
      " thou\n",
      " love\n",
      " thy\n",
      " thee\n",
      " shall\n",
      " did\n",
      " good\n",
      " like\n",
      " sir\n",
      " timon\n",
      "Cluster 2:\n",
      " king\n",
      " thou\n",
      " gloucester\n",
      " thy\n",
      " lord\n",
      " henry\n",
      " shall\n",
      " york\n",
      " richard\n",
      " duke\n",
      "Cluster 3:\n",
      " antony\n",
      " caesar\n",
      " brutus\n",
      " cassius\n",
      " cleopatra\n",
      " enobarbus\n",
      " charmian\n",
      " casca\n",
      " thou\n",
      " shall\n",
      "Cluster 4:\n",
      " falstaff\n",
      " ford\n",
      " bardolph\n",
      " prince\n",
      " page\n",
      " thou\n",
      " hotspur\n",
      " mrs\n",
      " sir\n",
      " poins\n",
      "Cluster 5:\n",
      " hamlet\n",
      " horatio\n",
      " polonius\n",
      " laertes\n",
      " ophelia\n",
      " rosencrantz\n",
      " guildenstern\n",
      " lord\n",
      " king\n",
      " marcellus\n",
      "Cluster 6:\n",
      " benedick\n",
      " leonato\n",
      " beatrice\n",
      " pedro\n",
      " claudio\n",
      " don\n",
      " hero\n",
      " dogberry\n",
      " borachio\n",
      " margaret\n",
      "Cluster 7:\n",
      " toby\n",
      " olivia\n",
      " viola\n",
      " malvolio\n",
      " sir\n",
      " aguecheek\n",
      " fabian\n",
      " maria\n",
      " clown\n",
      " sebastian\n",
      "Cluster 8:\n",
      " macbeth\n",
      " macduff\n",
      " banquo\n",
      " malcolm\n",
      " ross\n",
      " duncan\n",
      " lennox\n",
      " murtherer\n",
      " thane\n",
      " lady\n",
      "Cluster 9:\n",
      " pericles\n",
      " marina\n",
      " simonides\n",
      " helicanus\n",
      " thaisa\n",
      " boult\n",
      " lysimachus\n",
      " cleon\n",
      " cerimon\n",
      " fisherman\n"
     ]
    }
   ],
   "source": [
    "# printing out the top terms per cluster\n",
    "# reference: https://pythonprogramminglanguage.com/kmeans-text-clustering/\n",
    "print(\"Top terms per cluster:\")\n",
    "order_centroids = model.cluster_centers_.argsort()[:, ::-1]\n",
    "terms = vectorizer.get_feature_names_out()\n",
    "for i in range(k):\n",
    "    print(\"Cluster %d:\" % i),\n",
    "    for ind in order_centroids[i, :10]:\n",
    "        print(' %s' % terms[ind]),\n",
    "    print"
   ]
  },
  {
   "cell_type": "markdown",
   "metadata": {},
   "source": [
    "#### Predict New Document Clusters"
   ]
  },
  {
   "cell_type": "code",
   "execution_count": 57,
   "metadata": {},
   "outputs": [
    {
     "name": "stdout",
     "output_type": "stream",
     "text": [
      "Predictions\n",
      "Doc1 cluster: [2]\n",
      "Doc2 cluster: [1]\n"
     ]
    }
   ],
   "source": [
    "print(\"Predictions\")\n",
    "doc1 = vectorizer.transform([\"battle and king\"])\n",
    "doc2 = vectorizer.transform([\"wit and love\"])\n",
    "print(\"Doc1 cluster:\", model.predict(doc1))\n",
    "print(\"Doc2 cluster:\", model.predict(doc2))"
   ]
  },
  {
   "cell_type": "markdown",
   "metadata": {},
   "source": [
    "#### Hierarchical Clustering Dendrogram"
   ]
  },
  {
   "cell_type": "code",
   "execution_count": 58,
   "metadata": {},
   "outputs": [
    {
     "data": {
      "image/png": "[encoded data removed]",
      "text/plain": [
       "<Figure size 432x288 with 1 Axes>"
      ]
     },
     "metadata": {
      "needs_background": "light"
     },
     "output_type": "display_data"
    }
   ],
   "source": [
    "# referenced the Indo-European clustering example for this part\n",
    "\n",
    "from scipy.cluster.hierarchy import dendrogram, linkage\n",
    "from matplotlib import pyplot as plt\n",
    "\n",
    "# applying todense() method and the 'ward' method in the linkage\n",
    "Y = linkage(X.todense(), 'ward')\n",
    "plt.title('Hierarchical Clustering Dendrogram')\n",
    "plt.xlabel('sample index')\n",
    "plt.ylabel('distance (ward)')\n",
    "\n",
    "dendrogram(Y, labels=playTitles, orientation=\"left\", truncate_mode='level', leaf_rotation=0, leaf_font_size=6)\n",
    "plt.savefig('dendrogram.pdf')"
   ]
  },
  {
   "cell_type": "code",
   "execution_count": null,
   "metadata": {},
   "outputs": [],
   "source": []
  }
 ],
 "metadata": {
  "colab": {
   "authorship_tag": "ABX9TyPFN1wq7T4iYvxCstwxCc18",
   "collapsed_sections": [],
   "name": "hw3-shakespeare-template.ipynb",
   "provenance": []
  },
  "kernelspec": {
   "display_name": "Python 3 (ipykernel)",
   "language": "python",
   "name": "python3"
  },
  "language_info": {
   "codemirror_mode": {
    "name": "ipython",
    "version": 3
   },
   "file_extension": ".py",
   "mimetype": "text/x-python",
   "name": "python",
   "nbconvert_exporter": "python",
   "pygments_lexer": "ipython3",
   "version": "3.9.1"
  }
 },
 "nbformat": 4,
 "nbformat_minor": 4
}
