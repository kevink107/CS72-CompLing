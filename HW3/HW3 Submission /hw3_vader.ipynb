{
 "cells": [
  {
   "cell_type": "markdown",
   "id": "aadd45cf-e1c8-4c9e-b662-f2eb0554dc9d",
   "metadata": {},
   "source": [
    "# Homework 3.1: Darth Vader's Feelings\n",
    "Dartmouth College, LING48, Spring 2023<br>\n",
    "Kevin King (kevin.m.king.24@dartmouth.edu)\n",
    "\n",
    "In the program below, we read the emotion lexicon file and create `nrc_lexicon`, the dictionary of words and their associated emotion values. From there, in each of the three movie scripts, we perform the following:\n",
    "1) Find all of the Vader lines using a regular expression and add those lines to a list\n",
    "2) Initialize a dictionary `emotions` that will store the sum of emotion values for that movie\n",
    "3) Go through the Vader lines and, for the words that exist in `nrc_lexicon`, we add their emotion values to their corresponding keys in `emotions`\n",
    "4) Finally, we print each of the emotion value sums for each of the movies"
   ]
  },
  {
   "cell_type": "code",
   "execution_count": 28,
   "id": "f47741ef-3147-49f3-91a6-4823b978837a",
   "metadata": {},
   "outputs": [],
   "source": [
    "# Using regular expressions to find the Vader lines in the scripts\n",
    "import re"
   ]
  },
  {
   "cell_type": "markdown",
   "id": "3a0b0020-21a0-45ec-824f-2ace7a63fc57",
   "metadata": {},
   "source": [
    "Creating the emotion lexicon dictionary "
   ]
  },
  {
   "cell_type": "code",
   "execution_count": 36,
   "id": "07718706-f2c9-4203-a7cb-4e61b0dc0722",
   "metadata": {},
   "outputs": [],
   "source": [
    "# Read the NRC emotion lexicon file and create a dictionary\n",
    "nrc_lexicon = {}\n",
    "e = open('NRC-Emotion-Lexicon-Wordlevel-v0.92.txt', 'r')\n",
    "\n",
    "for line in e.readlines():\n",
    "    try:\n",
    "        word, emotion, value = line.strip().split('\\t')\n",
    "    except ValueError:\n",
    "        continue\n",
    "    \n",
    "    # handling new words - if not already in lexicon dictionary, initialize value to empty dictionary\n",
    "    if word not in nrc_lexicon:\n",
    "        nrc_lexicon[word] = {}\n",
    "    nrc_lexicon[word][emotion] = int(value)"
   ]
  },
  {
   "cell_type": "markdown",
   "id": "59a84864-12ff-4748-ba75-8fa8a55f2f20",
   "metadata": {},
   "source": [
    "Go through each movie and sum up emotions for Vader lines"
   ]
  },
  {
   "cell_type": "code",
   "execution_count": 42,
   "id": "02efba03-4bea-4d04-9f82-1135d3d9ff1e",
   "metadata": {},
   "outputs": [
    {
     "name": "stdout",
     "output_type": "stream",
     "text": [
      "MOVIE FILE: sw4.txt\n",
      "---------------\n",
      "anger 14\n",
      "anticipation 12\n",
      "disgust 2\n",
      "fear 13\n",
      "joy 4\n",
      "negative 22\n",
      "positive 14\n",
      "sadness 6\n",
      "surprise 4\n",
      "trust 8\n",
      "\n",
      "\n",
      "MOVIE FILE: sw5.txt\n",
      "---------------\n",
      "anger 6\n",
      "anticipation 18\n",
      "disgust 4\n",
      "fear 10\n",
      "joy 10\n",
      "negative 11\n",
      "positive 31\n",
      "sadness 9\n",
      "surprise 8\n",
      "trust 13\n",
      "\n",
      "\n",
      "MOVIE FILE: sw6.txt\n",
      "---------------\n",
      "anger 6\n",
      "anticipation 8\n",
      "disgust 4\n",
      "fear 9\n",
      "joy 7\n",
      "negative 15\n",
      "positive 13\n",
      "sadness 13\n",
      "surprise 8\n",
      "trust 11\n",
      "\n",
      "\n"
     ]
    }
   ],
   "source": [
    "# Look for Vader lines in each of the movie scripts\n",
    "movies = ['sw4.txt', 'sw5.txt', 'sw6.txt']\n",
    "for movie in movies:\n",
    "    m = open(movie, 'r')\n",
    "    lines = m.readlines()\n",
    "    vader_lines = []\n",
    "    for line in lines:\n",
    "        try:\n",
    "            line_num, speaker, words = line.strip().split('\\t')\n",
    "        except ValueError:\n",
    "            continue\n",
    "        if speaker == 'VADER':\n",
    "            vader_lines.append(words)\n",
    "   \n",
    "    # dictionary for the sum of emotions for the specific movie\n",
    "    emotions = {'anger': 0, \n",
    "                'anticipation': 0, \n",
    "                'disgust': 0, \n",
    "                'fear': 0, \n",
    "                'joy': 0, \n",
    "                'negative': 0, \n",
    "                'positive': 0, \n",
    "                'sadness': 0, \n",
    "                'surprise': 0, \n",
    "                'trust': 0}\n",
    "    \n",
    "    # For each word in the Vader lines, check if it exists in the NRC emotion lexicon dictionary\n",
    "    for line in vader_lines:\n",
    "        words = line.split()\n",
    "        for word in words:\n",
    "            # checks lowercase of each word \n",
    "            if word.lower() in nrc_lexicon:\n",
    "                # add the word's emotion values\n",
    "                for emotion in emotions:\n",
    "                    emotions[emotion] += nrc_lexicon[word.lower()][emotion]\n",
    "\n",
    "    # Print the sum of emotions for each movie\n",
    "    print(\"MOVIE FILE: \" + str(movie))\n",
    "    print(\"---------------\")\n",
    "    for emotion in emotions:\n",
    "        print(emotion, emotions[emotion])\n",
    "    print(\"\\n\")\n"
   ]
  },
  {
   "cell_type": "code",
   "execution_count": null,
   "id": "a2ad1f5b-570c-4de5-a44f-f195c8787624",
   "metadata": {},
   "outputs": [],
   "source": []
  },
  {
   "cell_type": "code",
   "execution_count": null,
   "id": "928d8ad0-3597-4cb5-9564-f903255d328e",
   "metadata": {},
   "outputs": [],
   "source": []
  }
 ],
 "metadata": {
  "kernelspec": {
   "display_name": "Python 3 (ipykernel)",
   "language": "python",
   "name": "python3"
  },
  "language_info": {
   "codemirror_mode": {
    "name": "ipython",
    "version": 3
   },
   "file_extension": ".py",
   "mimetype": "text/x-python",
   "name": "python",
   "nbconvert_exporter": "python",
   "pygments_lexer": "ipython3",
   "version": "3.9.1"
  }
 },
 "nbformat": 4,
 "nbformat_minor": 5
}
