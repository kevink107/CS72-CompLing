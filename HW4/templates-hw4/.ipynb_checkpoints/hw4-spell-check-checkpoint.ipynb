{
 "cells": [
  {
   "cell_type": "markdown",
   "id": "4c255864-e9dd-4dc2-a2a4-5fc1cade7f29",
   "metadata": {},
   "source": [
    "# Exercise 4.2: Spell Check\n",
    "Kevin King (Kevin.M.King.24@dartmouth.edu)<br>\n",
    "Dartmouth College, LING48, Spring 2023\n",
    "\n",
    "Link to sample code: http://norvig.com/spell-correct.html\n",
    "\n",
    "My Implementation (`check_spelling` function below): \n",
    "* Starts by splitting the input text using a regular expression to find all the words in the sequence. It converts each word into lowercase so that the spell-checker is case-insensitive. The resulting variable `words` is a list of the words extracted from the input text.\n",
    "* We then loop through each of word in the list of extracted words.\n",
    "* We check if each word exists in the dictionary WORDS, which we assume contains correctly spelled (or valid) words. If not, then we call the `candidates()` function to generate a list of possible corrections for the misspelled word. \n",
    "* To test, I provided a way to prompt users for a sentence, and I also directly inputted the sample sentences that were given to us in the instructions."
   ]
  },
  {
   "cell_type": "markdown",
   "id": "8a04ce09-c6ce-4f5d-bae1-e727eaa05b89",
   "metadata": {},
   "source": [
    "#### Sample code from link"
   ]
  },
  {
   "cell_type": "code",
   "execution_count": 19,
   "id": "157c38e2-d0ee-41c9-ba66-f4d308fff861",
   "metadata": {},
   "outputs": [],
   "source": [
    "import re\n",
    "from collections import Counter"
   ]
  },
  {
   "cell_type": "code",
   "execution_count": 20,
   "id": "096579be-ae88-45d5-a6db-8514bb3a1a65",
   "metadata": {},
   "outputs": [],
   "source": [
    "def words(text): return re.findall(r'\\w+', text.lower())\n",
    "\n",
    "WORDS = Counter(words(open('cim-sentences.txt').read()))\n",
    "\n",
    "def P(word, N=sum(WORDS.values())): \n",
    "    \"Probability of `word`.\"\n",
    "    return WORDS[word] / N\n",
    "\n",
    "def correction(word): \n",
    "    \"Most probable spelling correction for word.\"\n",
    "    return max(candidates(word.lower()), key=P)\n",
    "\n",
    "def candidates(word): \n",
    "    \"Generate possible spelling corrections for word.\"\n",
    "    return (known([word]) or known(edits1(word)) or known(edits2(word)) or [word])\n",
    "\n",
    "def known(words): \n",
    "    \"The subset of `words` that appear in the dictionary of WORDS.\"\n",
    "    return set(w for w in words if w in WORDS)\n",
    "\n",
    "def edits1(word):\n",
    "    \"All edits that are one edit away from `word`.\"\n",
    "    letters    = 'abcdefghijklmnopqrstuvwxyz'\n",
    "    splits     = [(word[:i], word[i:])    for i in range(len(word) + 1)]\n",
    "    deletes    = [L + R[1:]               for L, R in splits if R]\n",
    "    transposes = [L + R[1] + R[0] + R[2:] for L, R in splits if len(R)>1]\n",
    "    replaces   = [L + c + R[1:]           for L, R in splits if R for c in letters]\n",
    "    inserts    = [L + c + R               for L, R in splits for c in letters]\n",
    "    return set(deletes + transposes + replaces + inserts)\n",
    "\n",
    "def edits2(word): \n",
    "    \"All edits that are two edits away from `word`.\"\n",
    "    return (e2 for e1 in edits1(word) for e2 in edits1(e1))\n",
    "\n"
   ]
  },
  {
   "cell_type": "markdown",
   "id": "a97629da-9b8d-45d7-8390-d39162590740",
   "metadata": {},
   "source": [
    "#### Function: `check_spelling`"
   ]
  },
  {
   "cell_type": "code",
   "execution_count": 24,
   "id": "a86a2bfa-5c6c-4720-9dce-526c3f075b75",
   "metadata": {},
   "outputs": [],
   "source": [
    "def check_spelling(input_text):\n",
    "    # Split input text into words using a regular expression\n",
    "    words = re.findall(r'\\w+', input_text.lower())\n",
    "\n",
    "    # Check each of the extracted words for possible misspellings\n",
    "    for word in words:\n",
    "        # if a word is not in the dictionary of WORDS\n",
    "        if word not in WORDS:\n",
    "            # possible corrections for a misspelled word\n",
    "            possible_corrections = candidates(word)\n",
    "            print(\"== Possible misspelling ==\\n\", word + \":\", possible_corrections)"
   ]
  },
  {
   "cell_type": "markdown",
   "id": "a491650f-99e6-4660-b03f-d4c45a9c71ed",
   "metadata": {},
   "source": [
    "#### Prompt user for a sentence"
   ]
  },
  {
   "cell_type": "code",
   "execution_count": 21,
   "id": "5ed0cb17-06e7-42ea-b6f6-8de2b734d3a1",
   "metadata": {},
   "outputs": [
    {
     "name": "stdin",
     "output_type": "stream",
     "text": [
      "Please write a sentence in Cook Islands Maori and press ENTER to check the spelling: \n",
      " Kia orana kotoo mai i Rarotoga!\n"
     ]
    },
    {
     "name": "stdout",
     "output_type": "stream",
     "text": [
      "== Possible misspelling ==\n",
      " kotoo: {'kotou'}\n",
      "== Possible misspelling ==\n",
      " rarotoga: {'rarotonga'}\n"
     ]
    }
   ],
   "source": [
    "# Prompt user for a sentence in Cook Islands Maori\n",
    "input_text = input(\"Please write a sentence in Cook Islands Maori and press ENTER to check the spelling: \\n\")\n",
    "check_spelling(input_text)"
   ]
  },
  {
   "cell_type": "markdown",
   "id": "dc9b69d0-7cc8-45c7-b286-00355306f23d",
   "metadata": {},
   "source": [
    "#### Sample sentences for testing (given in instructions)"
   ]
  },
  {
   "cell_type": "code",
   "execution_count": 25,
   "id": "66b6eff5-f236-44e1-9224-6bfc8fdab9ee",
   "metadata": {},
   "outputs": [
    {
     "name": "stdout",
     "output_type": "stream",
     "text": [
      "Sample Input 1: Kia orana kotoo mai i Rarotoga!\n",
      "['kia', 'orana', 'kotoo', 'mai', 'i', 'rarotoga']\n",
      "== Possible misspelling ==\n",
      " kotoo: {'kotou'}\n",
      "== Possible misspelling ==\n",
      " rarotoga: {'rarotonga'}\n",
      "\n",
      "\n",
      "Sample Input 2: Kua aere au ki Mauke.\n",
      "['kua', 'aere', 'au', 'ki', 'mauke']\n",
      "== Possible misspelling ==\n",
      " aere: {'qaere', 'tere', 'mere', 'rere'}\n",
      "== Possible misspelling ==\n",
      " mauke: {'maquke'}\n"
     ]
    }
   ],
   "source": [
    "sample1 = \"Kia orana kotoo mai i Rarotoga!\"\n",
    "print(\"Sample Input 1: \" + sample1)\n",
    "check_spelling(sample1)\n",
    "\n",
    "print(\"\\n\")\n",
    "\n",
    "sample2 = \"Kua aere au ki Mauke.\"\n",
    "print(\"Sample Input 2: \" + sample2)\n",
    "check_spelling(sample2)"
   ]
  },
  {
   "cell_type": "code",
   "execution_count": null,
   "id": "1bd82250-463d-42e3-944d-c742ac447493",
   "metadata": {},
   "outputs": [],
   "source": []
  }
 ],
 "metadata": {
  "kernelspec": {
   "display_name": "Python 3 (ipykernel)",
   "language": "python",
   "name": "python3"
  },
  "language_info": {
   "codemirror_mode": {
    "name": "ipython",
    "version": 3
   },
   "file_extension": ".py",
   "mimetype": "text/x-python",
   "name": "python",
   "nbconvert_exporter": "python",
   "pygments_lexer": "ipython3",
   "version": "3.9.1"
  }
 },
 "nbformat": 4,
 "nbformat_minor": 5
}
