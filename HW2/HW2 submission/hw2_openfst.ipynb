{
  "cells": [
    {
      "cell_type": "markdown",
      "metadata": {
        "id": "nxkCnraZi_d2"
      },
      "source": [
        "# Exercise 2: Finite State Transducers\n",
        "Dartmouth College, LING48, Spring 2023<br>\n",
        "Kevin King (kevin.m.king.24@dartmouth.edu)<br>\n",
        "\n",
        "This program uses the `openfst` and `graphviz` packages:<br>\n",
        "http://www.openfst.org/twiki/bin/view/FST/PythonExtension<br>\n",
        "https://graphviz.readthedocs.io/en/stable/manual.html\n",
        "\n",
        "\n",
        "In this program, you will see a transductor that reads different conjugations of the verbs ali (\"to cook\"), tsak (\"to pop/puncture\"), and bi (\"to dig\"). \n",
        "\n",
        "This program has several parts: \n",
        "\n",
        "(1) We have the `morphSymbols` and `translateSymbols`, which are the lists of all of the elements we use in the FST morphological decomposition and translation graphs, respectively. \n",
        "\n",
        "(2) We have a list of compiler instructions. This is the list of all the transitions and final states in the FST.\n",
        "\n",
        "(3) We have the `spellout` function. This function has the string as its input, and then goes character by character, calculating the path through the FST and its corresponding transformations. In addition, `linear_fst`, `apply_fst`, and `accepted` help in carrying out the FST processing.\n",
        "\n",
        "(4) Finally, we have a function that prints the FST into a PDF so you can see the transitions graphically, and then some code that allows you to save the files. "
      ]
    },
    {
      "cell_type": "markdown",
      "metadata": {
        "id": "oPOUc8ZWjGjG"
      },
      "source": [
        "Step 1: Install the necessary packages.\n",
        "\n",
        "These are available for Linux computers on Anaconda, but they are not available for Windows Anaconda and they are difficult to install in MacOS Anaconda (https://anaconda.org/conda-forge/openfst)."
      ]
    },
    {
      "cell_type": "code",
      "execution_count": 2,
      "metadata": {
        "id": "9XYYzwUvd6Lr",
        "colab": {
          "base_uri": "https://localhost:8080/"
        },
        "outputId": "924961ed-a205-45e8-90bb-7c61309895d8"
      },
      "outputs": [
        {
          "output_type": "stream",
          "name": "stdout",
          "text": [
            "env: PYTHONPATH=\n",
            "\n",
            "--2023-04-16 17:59:07--  https://repo.anaconda.com/miniconda/Miniconda3-py37_4.12.0-Linux-x86_64.sh\n",
            "Resolving repo.anaconda.com (repo.anaconda.com)... 104.16.130.3, 104.16.131.3, 2606:4700::6810:8203, ...\n",
            "Connecting to repo.anaconda.com (repo.anaconda.com)|104.16.130.3|:443... connected.\n",
            "HTTP request sent, awaiting response... 200 OK\n",
            "Length: 104996770 (100M) [application/x-sh]\n",
            "Saving to: ‘Miniconda3-py37_4.12.0-Linux-x86_64.sh’\n",
            "\n",
            "Miniconda3-py37_4.1 100%[===================>] 100.13M   182MB/s    in 0.6s    \n",
            "\n",
            "2023-04-16 17:59:08 (182 MB/s) - ‘Miniconda3-py37_4.12.0-Linux-x86_64.sh’ saved [104996770/104996770]\n",
            "\n",
            "PREFIX=/usr/local\n",
            "Unpacking payload ...\n",
            "Collecting package metadata (current_repodata.json): - \b\b\\ \b\bdone\n",
            "Solving environment: / \b\b- \b\b\\ \b\b| \b\b/ \b\bdone\n",
            "\n",
            "## Package Plan ##\n",
            "\n",
            "  environment location: /usr/local\n",
            "\n",
            "  added / updated specs:\n",
            "    - _libgcc_mutex==0.1=main\n",
            "    - _openmp_mutex==4.5=1_gnu\n",
            "    - brotlipy==0.7.0=py37h27cfd23_1003\n",
            "    - ca-certificates==2022.3.29=h06a4308_1\n",
            "    - certifi==2021.10.8=py37h06a4308_2\n",
            "    - cffi==1.15.0=py37hd667e15_1\n",
            "    - charset-normalizer==2.0.4=pyhd3eb1b0_0\n",
            "    - colorama==0.4.4=pyhd3eb1b0_0\n",
            "    - conda-content-trust==0.1.1=pyhd3eb1b0_0\n",
            "    - conda-package-handling==1.8.1=py37h7f8727e_0\n",
            "    - conda==4.12.0=py37h06a4308_0\n",
            "    - cryptography==36.0.0=py37h9ce1e76_0\n",
            "    - idna==3.3=pyhd3eb1b0_0\n",
            "    - ld_impl_linux-64==2.35.1=h7274673_9\n",
            "    - libffi==3.3=he6710b0_2\n",
            "    - libgcc-ng==9.3.0=h5101ec6_17\n",
            "    - libgomp==9.3.0=h5101ec6_17\n",
            "    - libstdcxx-ng==9.3.0=hd4cf53a_17\n",
            "    - ncurses==6.3=h7f8727e_2\n",
            "    - openssl==1.1.1n=h7f8727e_0\n",
            "    - pip==21.2.2=py37h06a4308_0\n",
            "    - pycosat==0.6.3=py37h27cfd23_0\n",
            "    - pycparser==2.21=pyhd3eb1b0_0\n",
            "    - pyopenssl==22.0.0=pyhd3eb1b0_0\n",
            "    - pysocks==1.7.1=py37_1\n",
            "    - python==3.7.13=h12debd9_0\n",
            "    - readline==8.1.2=h7f8727e_1\n",
            "    - requests==2.27.1=pyhd3eb1b0_0\n",
            "    - ruamel_yaml==0.15.100=py37h27cfd23_0\n",
            "    - setuptools==61.2.0=py37h06a4308_0\n",
            "    - six==1.16.0=pyhd3eb1b0_1\n",
            "    - sqlite==3.38.2=hc218d9a_0\n",
            "    - tk==8.6.11=h1ccaba5_0\n",
            "    - tqdm==4.63.0=pyhd3eb1b0_0\n",
            "    - urllib3==1.26.8=pyhd3eb1b0_0\n",
            "    - wheel==0.37.1=pyhd3eb1b0_0\n",
            "    - xz==5.2.5=h7b6447c_0\n",
            "    - yaml==0.2.5=h7b6447c_0\n",
            "    - zlib==1.2.12=h7f8727e_1\n",
            "\n",
            "\n",
            "The following NEW packages will be INSTALLED:\n",
            "\n",
            "  _libgcc_mutex      pkgs/main/linux-64::_libgcc_mutex-0.1-main\n",
            "  _openmp_mutex      pkgs/main/linux-64::_openmp_mutex-4.5-1_gnu\n",
            "  brotlipy           pkgs/main/linux-64::brotlipy-0.7.0-py37h27cfd23_1003\n",
            "  ca-certificates    pkgs/main/linux-64::ca-certificates-2022.3.29-h06a4308_1\n",
            "  certifi            pkgs/main/linux-64::certifi-2021.10.8-py37h06a4308_2\n",
            "  cffi               pkgs/main/linux-64::cffi-1.15.0-py37hd667e15_1\n",
            "  charset-normalizer pkgs/main/noarch::charset-normalizer-2.0.4-pyhd3eb1b0_0\n",
            "  colorama           pkgs/main/noarch::colorama-0.4.4-pyhd3eb1b0_0\n",
            "  conda              pkgs/main/linux-64::conda-4.12.0-py37h06a4308_0\n",
            "  conda-content-tru~ pkgs/main/noarch::conda-content-trust-0.1.1-pyhd3eb1b0_0\n",
            "  conda-package-han~ pkgs/main/linux-64::conda-package-handling-1.8.1-py37h7f8727e_0\n",
            "  cryptography       pkgs/main/linux-64::cryptography-36.0.0-py37h9ce1e76_0\n",
            "  idna               pkgs/main/noarch::idna-3.3-pyhd3eb1b0_0\n",
            "  ld_impl_linux-64   pkgs/main/linux-64::ld_impl_linux-64-2.35.1-h7274673_9\n",
            "  libffi             pkgs/main/linux-64::libffi-3.3-he6710b0_2\n",
            "  libgcc-ng          pkgs/main/linux-64::libgcc-ng-9.3.0-h5101ec6_17\n",
            "  libgomp            pkgs/main/linux-64::libgomp-9.3.0-h5101ec6_17\n",
            "  libstdcxx-ng       pkgs/main/linux-64::libstdcxx-ng-9.3.0-hd4cf53a_17\n",
            "  ncurses            pkgs/main/linux-64::ncurses-6.3-h7f8727e_2\n",
            "  openssl            pkgs/main/linux-64::openssl-1.1.1n-h7f8727e_0\n",
            "  pip                pkgs/main/linux-64::pip-21.2.2-py37h06a4308_0\n",
            "  pycosat            pkgs/main/linux-64::pycosat-0.6.3-py37h27cfd23_0\n",
            "  pycparser          pkgs/main/noarch::pycparser-2.21-pyhd3eb1b0_0\n",
            "  pyopenssl          pkgs/main/noarch::pyopenssl-22.0.0-pyhd3eb1b0_0\n",
            "  pysocks            pkgs/main/linux-64::pysocks-1.7.1-py37_1\n",
            "  python             pkgs/main/linux-64::python-3.7.13-h12debd9_0\n",
            "  readline           pkgs/main/linux-64::readline-8.1.2-h7f8727e_1\n",
            "  requests           pkgs/main/noarch::requests-2.27.1-pyhd3eb1b0_0\n",
            "  ruamel_yaml        pkgs/main/linux-64::ruamel_yaml-0.15.100-py37h27cfd23_0\n",
            "  setuptools         pkgs/main/linux-64::setuptools-61.2.0-py37h06a4308_0\n",
            "  six                pkgs/main/noarch::six-1.16.0-pyhd3eb1b0_1\n",
            "  sqlite             pkgs/main/linux-64::sqlite-3.38.2-hc218d9a_0\n",
            "  tk                 pkgs/main/linux-64::tk-8.6.11-h1ccaba5_0\n",
            "  tqdm               pkgs/main/noarch::tqdm-4.63.0-pyhd3eb1b0_0\n",
            "  urllib3            pkgs/main/noarch::urllib3-1.26.8-pyhd3eb1b0_0\n",
            "  wheel              pkgs/main/noarch::wheel-0.37.1-pyhd3eb1b0_0\n",
            "  xz                 pkgs/main/linux-64::xz-5.2.5-h7b6447c_0\n",
            "  yaml               pkgs/main/linux-64::yaml-0.2.5-h7b6447c_0\n",
            "  zlib               pkgs/main/linux-64::zlib-1.2.12-h7f8727e_1\n",
            "\n",
            "\n",
            "Preparing transaction: \\ \b\b| \b\b/ \b\b- \b\b\\ \b\b| \b\bdone\n",
            "Executing transaction: - \b\b\\ \b\b| \b\b/ \b\b- \b\b\\ \b\b| \b\b/ \b\b- \b\b\\ \b\b| \b\b/ \b\b- \b\b\\ \b\b| \b\b/ \b\b- \b\b\\ \b\b| \b\b/ \b\b- \b\b\\ \b\b| \b\b/ \b\bdone\n",
            "installation finished.\n"
          ]
        }
      ],
      "source": [
        "# This will install Python 3.7 in the virtual computer.\n",
        "# This is needed to run the FST packages\n",
        "# This should take about 40 seconds\n",
        "\n",
        "%env PYTHONPATH=\n",
        "!echo $PYTHONPATH\n",
        "\n",
        "! wget https://repo.anaconda.com/miniconda/Miniconda3-py37_4.12.0-Linux-x86_64.sh\n",
        "! chmod +x Miniconda3-py37_4.12.0-Linux-x86_64.sh\n",
        "! bash ./Miniconda3-py37_4.12.0-Linux-x86_64.sh -b -f -p /usr/local/\n",
        "\n",
        "import sys\n",
        "sys.path.append(\"/usr/local/lib/python3.7/site-packages\")\n",
        "!conda config --add channels bioconda\n",
        "!conda config --add channels conda-forge"
      ]
    },
    {
      "cell_type": "code",
      "execution_count": 3,
      "metadata": {
        "id": "bYy7rDiBe3id",
        "tags": [],
        "colab": {
          "base_uri": "https://localhost:8080/"
        },
        "outputId": "09416e08-4f08-4da9-9e19-96970c8999c8"
      },
      "outputs": [
        {
          "output_type": "stream",
          "name": "stdout",
          "text": [
            "Looking in indexes: https://pypi.org/simple, https://us-python.pkg.dev/colab-wheels/public/simple/\n",
            "Collecting openfst-python\n",
            "  Downloading openfst_python-1.7.3-cp37-cp37m-manylinux1_x86_64.whl (15.0 MB)\n",
            "\u001b[K     |████████████████████████████████| 15.0 MB 4.4 MB/s \n",
            "\u001b[?25hInstalling collected packages: openfst-python\n",
            "Successfully installed openfst-python-1.7.3\n",
            "\u001b[33mWARNING: Running pip as the 'root' user can result in broken permissions and conflicting behaviour with the system package manager. It is recommended to use a virtual environment instead: https://pip.pypa.io/warnings/venv\u001b[0m\n",
            "Looking in indexes: https://pypi.org/simple, https://us-python.pkg.dev/colab-wheels/public/simple/\n",
            "Collecting graphviz\n",
            "  Downloading graphviz-0.20.1-py3-none-any.whl (47 kB)\n",
            "\u001b[K     |████████████████████████████████| 47 kB 2.5 MB/s \n",
            "\u001b[?25hInstalling collected packages: graphviz\n",
            "Successfully installed graphviz-0.20.1\n",
            "\u001b[33mWARNING: Running pip as the 'root' user can result in broken permissions and conflicting behaviour with the system package manager. It is recommended to use a virtual environment instead: https://pip.pypa.io/warnings/venv\u001b[0m\n"
          ]
        }
      ],
      "source": [
        "!pip install openfst-python\n",
        "!pip install graphviz"
      ]
    },
    {
      "cell_type": "markdown",
      "metadata": {
        "id": "WytlXCFujLBY"
      },
      "source": [
        "Step 2: Load packages"
      ]
    },
    {
      "cell_type": "code",
      "execution_count": 4,
      "metadata": {
        "id": "GmGq2bq8e5dx",
        "colab": {
          "base_uri": "https://localhost:8080/"
        },
        "outputId": "2a357ad2-2d36-4708-f0a4-3df7c64de217"
      },
      "outputs": [
        {
          "output_type": "stream",
          "name": "stderr",
          "text": [
            "<frozen importlib._bootstrap>:228: RuntimeWarning: compiletime version 3.7 of module 'pywrapfst' does not match runtime version 3.9\n"
          ]
        }
      ],
      "source": [
        "import openfst_python as fst\n",
        "from graphviz import render\n",
        "import graphviz\n",
        "import cv2\n",
        "from PIL import Image\n",
        "from google.colab import files"
      ]
    },
    {
      "cell_type": "markdown",
      "metadata": {
        "id": "Qxe7okxAjRT9"
      },
      "source": [
        "Step 3: The following four functions (linear_fst, apply_fst, accepted, spellout) carry out the FST processing. You do NOT need to modify them."
      ]
    },
    {
      "cell_type": "code",
      "execution_count": 5,
      "metadata": {
        "id": "Wxkcsw1de85L"
      },
      "outputs": [],
      "source": [
        "def linear_fst(elements, automata_op, keep_isymbols=True, **kwargs):\n",
        "    \"\"\"Produce a linear automata.\"\"\"\n",
        "    compiler = fst.Compiler(isymbols=automata_op.input_symbols().copy(), \n",
        "                            acceptor=keep_isymbols,\n",
        "                            keep_isymbols=keep_isymbols, \n",
        "                            **kwargs)\n",
        "\n",
        "    for i, el in enumerate(elements):\n",
        "        print(\"{} {} {}\".format(i, i+1, el),file=compiler)\n",
        "    print(str(i+1),file=compiler)\n",
        "\n",
        "    return compiler.compile()\n",
        "\n",
        "def apply_fst(elements, automata_op, is_project=True, **kwargs):\n",
        "    \"\"\"Compose a linear automata generated from `elements` with `automata_op`.\n",
        "\n",
        "    Args:\n",
        "        elements (list): ordered list of edge symbols for a linear automata.\n",
        "        automata_op (Fst): automata that will be applied.\n",
        "        is_project (bool, optional): whether to keep only the output labels.\n",
        "        kwargs:\n",
        "            Additional arguments to the compiler of the linear automata .\n",
        "    \"\"\"\n",
        "    linear_automata = linear_fst(elements, automata_op, **kwargs)\n",
        "    out = fst.compose(linear_automata, automata_op)\n",
        "    if is_project:\n",
        "        out.project(project_output=True)\n",
        "    return out\n",
        "\n",
        "def accepted(output_apply):\n",
        "    \"\"\"Given the output of `apply_fst` for acceptor, return True is sting was accepted.\"\"\"\n",
        "    return output_apply.num_states() != 0\n",
        "\n",
        "def spellout(inputString, inSymbols, inFST):\n",
        "\toutput=\"\"\n",
        "\tcurrentFST = apply_fst(list(inputString), inFST)\n",
        "\tfor state in currentFST.states():\n",
        "\t\tfor arc in currentFST.arcs(state):\n",
        "\t\t\tif (inSymbols.find(arc.olabel) != \"<eps>\"):\n",
        "\t\t\t\toutput += inSymbols.find(arc.olabel)\n",
        "\treturn output"
      ]
    },
    {
      "cell_type": "markdown",
      "metadata": {
        "id": "3kcIGzl6jWgK"
      },
      "source": [
        "Step 4: List of symbols\n",
        "\n",
        "You need to modify the list below to match the symbols you need. My advice would be:<br>\n",
        "(1) Draw the lattice on a piece of paper,<br>\n",
        "(2) Make a list of the transitions, and<br>\n",
        "(3) As you go through the transitions, include your symbolss in the symbol list.\n",
        "\n",
        "Notice that the first symbol is the \"epsilon\", for when you expect empty strings."
      ]
    },
    {
      "cell_type": "code",
      "execution_count": 6,
      "metadata": {
        "id": "d1rG_3cGe_NU",
        "colab": {
          "base_uri": "https://localhost:8080/"
        },
        "outputId": "f8d4a870-1a21-4fc8-a973-688975effc86"
      },
      "outputs": [
        {
          "output_type": "execute_result",
          "data": {
            "text/plain": [
              "22"
            ]
          },
          "metadata": {},
          "execution_count": 6
        }
      ],
      "source": [
        "morphSymbols = fst.SymbolTable()\n",
        "morphSymbols.add_symbol(\"<eps>\", 0)\n",
        "morphSymbols.add_symbol(\"a\", 1)\n",
        "morphSymbols.add_symbol(\"l\", 2)\n",
        "morphSymbols.add_symbol(\"e\", 3)\n",
        "morphSymbols.add_symbol(\"n-\", 4)\n",
        "morphSymbols.add_symbol(\"H\", 5)\n",
        "morphSymbols.add_symbol(\"i\", 6)\n",
        "morphSymbols.add_symbol(\"-i\", 7)\n",
        "morphSymbols.add_symbol(\"'\", 8)\n",
        "morphSymbols.add_symbol(\"r\", 9)\n",
        "morphSymbols.add_symbol(\"n\", 10)\n",
        "morphSymbols.add_symbol(\"u\", 11)\n",
        "morphSymbols.add_symbol(\"x\", 12)\n",
        "morphSymbols.add_symbol(\"k\", 13)\n",
        "morphSymbols.add_symbol(\"o\", 14)\n",
        "morphSymbols.add_symbol(\"-o\", 15)\n",
        "morphSymbols.add_symbol(\"q\", 16)\n",
        "morphSymbols.add_symbol(\"F\", 17)\n",
        "morphSymbols.add_symbol(\"-a\", 18)\n",
        "morphSymbols.add_symbol(\"b\", 19)\n",
        "morphSymbols.add_symbol(\"-e\", 20)\n",
        "morphSymbols.add_symbol(\"t\", 21)\n",
        "morphSymbols.add_symbol(\"s\", 22)"
      ]
    },
    {
      "cell_type": "code",
      "execution_count": 7,
      "metadata": {
        "id": "tniQPJZ6R2FY",
        "colab": {
          "base_uri": "https://localhost:8080/"
        },
        "outputId": "fa1e6213-5ad6-4f0b-f2ff-ecad5884b207"
      },
      "outputs": [
        {
          "output_type": "execute_result",
          "data": {
            "text/plain": [
              "30"
            ]
          },
          "metadata": {},
          "execution_count": 7
        }
      ],
      "source": [
        "translateSymbols = fst.SymbolTable()\n",
        "translateSymbols.add_symbol(\"<eps>\", 0)\n",
        "translateSymbols.add_symbol(\"a\", 1)\n",
        "translateSymbols.add_symbol(\"l\", 2)\n",
        "translateSymbols.add_symbol(\"e\", 3)\n",
        "translateSymbols.add_symbol(\"H\", 4)\n",
        "translateSymbols.add_symbol(\"i\", 5)\n",
        "translateSymbols.add_symbol(\"'\", 6)\n",
        "translateSymbols.add_symbol(\"r\", 7)\n",
        "translateSymbols.add_symbol(\"n\", 8)\n",
        "translateSymbols.add_symbol(\"u\", 9)\n",
        "translateSymbols.add_symbol(\"x\", 10)\n",
        "translateSymbols.add_symbol(\"k\", 11)\n",
        "translateSymbols.add_symbol(\"o\", 12)\n",
        "translateSymbols.add_symbol(\"q\", 13)\n",
        "translateSymbols.add_symbol(\"F\", 14)\n",
        "translateSymbols.add_symbol(\"cook\", 15)\n",
        "translateSymbols.add_symbol(\"-\", 16)\n",
        "translateSymbols.add_symbol(\"IPFV\", 17)\n",
        "translateSymbols.add_symbol(\"MID\", 18)\n",
        "translateSymbols.add_symbol(\"-THEME.\", 19)\n",
        "translateSymbols.add_symbol(\"PFV.IMPROSP\", 20)\n",
        "translateSymbols.add_symbol(\"INF\", 21)\n",
        "translateSymbols.add_symbol(\"IMP\", 22)\n",
        "translateSymbols.add_symbol(\"DESIDERATIVE\", 23)\n",
        "translateSymbols.add_symbol(\".IPFV\", 24)\n",
        "translateSymbols.add_symbol(\"b\", 25)\n",
        "translateSymbols.add_symbol(\"dig\", 26)\n",
        "translateSymbols.add_symbol(\"t\", 27)\n",
        "translateSymbols.add_symbol(\"s\", 28)\n",
        "translateSymbols.add_symbol(\"pop\", 29)\n",
        "translateSymbols.add_symbol(\"-THEME.PFV.IMPROSP\", 30)"
      ]
    },
    {
      "cell_type": "markdown",
      "metadata": {
        "id": "YnsKGhADjZnt"
      },
      "source": [
        "Step 5: Build the transitions of the FSTs. You need to modify the list below. This is where you would put the transitions and the end states of your FST."
      ]
    },
    {
      "cell_type": "code",
      "execution_count": 8,
      "metadata": {
        "id": "mpu5NQPNfBhI"
      },
      "outputs": [],
      "source": [
        "compiler = fst.Compiler(isymbols=morphSymbols, osymbols=morphSymbols, keep_isymbols=True, keep_osymbols=True)\n",
        "\n",
        "# You do *not* need to comment every line. I put the comments below to\n",
        "# make the program clearer, but you do not need to comment in such detail.\n",
        "\n",
        "print(\"0 1 a a\",file=compiler)           \n",
        "print(\"1 2 l l\",file=compiler)  # verb root al\n",
        "print(\"2 3 e -e\",file=compiler) \n",
        "print(\"2 4 i -i\",file=compiler) \n",
        "print(\"3 5 H H\",file=compiler)  # al-eH\n",
        "print(\"4 5 ' '\",file=compiler)  # al-i'\n",
        "print(\"5\",file=compiler) \n",
        "print(\"4 6 H H\",file=compiler) \n",
        "print(\"6 7 r r\",file=compiler)  # al-iHr\n",
        "print(\"7\",file=compiler) \n",
        "print(\"6 8 n n-\",file=compiler) \n",
        "print(\"8 9 e e\",file=compiler) \n",
        "print(\"9 10 x x\",file=compiler) # al-iHnex\n",
        "print(\"10\",file=compiler) \n",
        "print(\"8 11 u u\",file=compiler) \n",
        "print(\"11 12 x x\",file=compiler)\n",
        "print(\"2 13 o -o\",file=compiler)\n",
        "print(\"13 14 q q\",file=compiler) \n",
        "print(\"14 15 F F\",file=compiler) \n",
        "print(\"15 16 k k\",file=compiler)  # al-oqFk, tsak-oqFk, bi-oqFk\n",
        "print(\"12 16 k k\",file=compiler)  # al-iHnuxk\n",
        "print(\"16\",file=compiler) \n",
        "print(\"15 17 <eps> <eps>\",file=compiler)  #al-oqF\n",
        "print(\"17\",file=compiler) \n",
        "print(\"2 18 a -a\",file=compiler) \n",
        "print(\"18 19 ' '\",file=compiler) \n",
        "print(\"19 20 k k\",file=compiler) \n",
        "print(\"20 21 u u\",file=compiler) \n",
        "print(\"21 22 x x\",file=compiler)  # al-a'kux\n",
        "print(\"22\",file=compiler) \n",
        "print(\"0 23 t t\",file=compiler) \n",
        "print(\"23 24 s s\",file=compiler) \n",
        "print(\"24 25 a a\",file=compiler) \n",
        "print(\"25 2 k k\",file=compiler) # verb root tsak\n",
        "# separate states for bi- verb per the announcement from 4/15\n",
        "print(\"0 26 b b\",file=compiler) \n",
        "print(\"26 27 i <eps>\",file=compiler) # verb root bi\n",
        "print(\"27 28 ' -i\",file=compiler)\n",
        "print(\"28 29 <eps> '\",file=compiler) \n",
        "print(\"29\",file=compiler) \n",
        "print(\"27 30 <eps> i\",file=compiler) \n",
        "print(\"30 13 o -o\",file=compiler) \n",
        "\n",
        "morphFST = compiler.compile()"
      ]
    },
    {
      "cell_type": "code",
      "execution_count": 14,
      "metadata": {
        "id": "f-W3VNvjR5-W"
      },
      "outputs": [],
      "source": [
        "compiler = fst.Compiler(isymbols=translateSymbols, osymbols=translateSymbols, keep_isymbols=True, keep_osymbols=True)\n",
        "\n",
        "# You do *not* need to comment every line. I put the comments below to\n",
        "# make the program clearer, but you do not need to comment in such detail.\n",
        "\n",
        "print(\"0 1 a <eps>\",file=compiler)           \n",
        "print(\"1 2 l cook\",file=compiler) # verb cook\n",
        "print(\"2 3 e -\",file=compiler)  \n",
        "print(\"2 4 i -THEME.\",file=compiler)  \n",
        "print(\"3 5 H IPFV\",file=compiler) # cook-IPFV\n",
        "print(\"4 5 ' PFV.IMPROSP\",file=compiler)  # cook-THEME.PFV.IMPROSP\n",
        "print(\"5\",file=compiler) \n",
        "print(\"4 6 H MID\",file=compiler) \n",
        "print(\"6 7 r .IPFV\",file=compiler)  # cook-THEME.MID.IPFV\n",
        "print(\"7\",file=compiler) \n",
        "print(\"6 8 n -\",file=compiler) \n",
        "print(\"8 9 e <eps>\",file=compiler) \n",
        "print(\"9 10 x PFV.IMPROSP\",file=compiler) # cook-THEME.MID-PFV.IMPROSP\n",
        "print(\"10\",file=compiler) \n",
        "print(\"8 11 u <eps>\",file=compiler) \n",
        "print(\"11 12 x <eps>\",file=compiler) \n",
        "print(\"2 13 o -\",file=compiler)\n",
        "print(\"13 14 q <eps>\",file=compiler) \n",
        "print(\"14 15 F <eps>\",file=compiler) \n",
        "print(\"15 16 k INF\",file=compiler)  # cook-INF, tsak-INF bi-INF\n",
        "print(\"12 16 k INF\",file=compiler) # cook-THEME.MID-INF\n",
        "print(\"16\",file=compiler) \n",
        "print(\"15 17 <eps> IMP\",file=compiler)  # cook-IMP\n",
        "print(\"17\",file=compiler) \n",
        "print(\"2 18 a -\",file=compiler) \n",
        "print(\"18 19 ' <eps>\",file=compiler) \n",
        "print(\"19 20 k <eps>\",file=compiler) \n",
        "print(\"20 21 u <eps>\",file=compiler) \n",
        "print(\"21 22 x DESIDERATIVE\",file=compiler) # cook-DESIDERATIVE\n",
        "print(\"22\",file=compiler) \n",
        "print(\"0 23 t <eps>\",file=compiler) \n",
        "print(\"23 24 s <eps>\",file=compiler) \n",
        "print(\"24 25 a <eps>\",file=compiler) \n",
        "print(\"25 2 k pop\",file=compiler) # verb pop\n",
        "# separate states for bi- verb per the announcement from 4/15\n",
        "print(\"0 26 b <eps>\",file=compiler) \n",
        "print(\"26 2 i dig\",file=compiler) # verb dig\n",
        "print(\"2 27 ' -THEME.PFV.IMPROSP\",file=compiler) \n",
        "print(\"27\",file=compiler) \n",
        "\n",
        "\n",
        "translateFST = compiler.compile()"
      ]
    },
    {
      "cell_type": "markdown",
      "metadata": {
        "id": "dGeU2JWCjdzC"
      },
      "source": [
        "Step 6: The following code is used to test the outputs of the FSTs based on the given inputs "
      ]
    },
    {
      "cell_type": "code",
      "execution_count": 15,
      "metadata": {
        "id": "GcirwMeCfDa8",
        "colab": {
          "base_uri": "https://localhost:8080/"
        },
        "outputId": "64209950-4d37-42a4-88f3-1032a10f969f"
      },
      "outputs": [
        {
          "output_type": "stream",
          "name": "stdout",
          "text": [
            "First you'll see the expected output, and then the output of the student\n",
            "\n",
            "01. Input:       aleH (\"I cook\")\n",
            "    Morphs:      al-eH / al-eH\n",
            "    Translation: cook-IPFV / cook-IPFV\n",
            "\n",
            "02. Input:       ali' (\"I cooked\")\n",
            "    Morphs:      al-i' / al-i'\n",
            "    Translation: cook-THEME.PFV.IMPROSP / cook-THEME.PFV.IMPROSP\n",
            "\n",
            "03. Input:       aloqFk (\"to cook\")\n",
            "    Morphs:      al-oqFk / al-oqFk\n",
            "    Translation: cook-INF / cook-INF\n",
            "\n",
            "04. Input:       aloqF (\"Cook!\")\n",
            "    Morphs:      al-oqF / al-oqF\n",
            "    Translation: cook-IMP / cook-IMP\n",
            "\n",
            "05. Input:       ala'kux (\"I want to cook\")\n",
            "    Morphs:      al-a'kux / al-a'kux\n",
            "    Translation: cook-DESIDERATIVE / cook-DESIDERATIVE\n",
            "\n",
            "15. Input:       aliHr (\"It is being cooked\")\n",
            "    Morphs:      al-iHr / al-iHr\n",
            "    Translation: cook-THEME.MID.IPFV / cook-THEME.MID.IPFV\n",
            "\n",
            "16. Input:       aliHnex (\"It became cooked\")\n",
            "    Morphs:      al-iHn-ex / al-iHn-ex\n",
            "    Translation: cook-THEME.MID-PFV.IMPROSP / cook-THEME.MID-PFV.IMPROSP\n",
            "\n",
            "17. Input:       aliHnuxk (\"to be cooked\")\n",
            "    Morphs:      al-iHn-uxk / al-iHn-uxk\n",
            "    Translation: cook-THEME.MID-INF / cook-THEME.MID-INF\n",
            "\n",
            "03. Input:       tsakoqFk (\"to pop (a bubble), to puncture an object\")\n",
            "    Morphs:      tsak-oqFk / tsak-oqFk\n",
            "    Translation: pop-INF / pop-INF\n",
            "\n",
            "03. Input:       bioqFk (\"to dig, to make a hole in the ground\")\n",
            "    Morphs:      bi-oqFk / bi-oqFk\n",
            "    Translation: dig-INF / dig-INF\n",
            "\n",
            "02. Input:       bi' (\"has dug\")\n",
            "    Morphs:      bi' / b-i'\n",
            "    Translation: dig-THEME.PFV.IMPROSP / dig-THEME.PFV.IMPROSP\n",
            "\n",
            "02. Input:       tsaki' (\"has popped\")\n",
            "    Morphs:      tsaki' / tsak-i'\n",
            "    Translation: pop-THEME.PFV.IMPROSP / pop-THEME.PFV.IMPROSP\n",
            "\n"
          ]
        }
      ],
      "source": [
        "# word = \"aleH\"\n",
        "# splitWord = spellout(word, morphSymbols, morphFST)\n",
        "# wordTranslation = spellout(word, translateSymbols, translateFST)\n",
        "# print(word + \"\\n\" + splitWord + \"\\n\" + wordTranslation + \"\\n\")\n",
        "\n",
        "# word = \"ali'\"\n",
        "# splitWord = spellout(word, morphSymbols, morphFST)\n",
        "# wordTranslation = spellout(word, translateSymbols, translateFST)\n",
        "# print(word + \"\\n\" + splitWord + \"\\n\" + wordTranslation + \"\\n\")\n",
        "\n",
        "# word = \"aloqFk\"\n",
        "# splitWord = spellout(word, morphSymbols, morphFST)\n",
        "# wordTranslation = spellout(word, translateSymbols, translateFST)\n",
        "# print(word + \"\\n\" + splitWord + \"\\n\" + wordTranslation + \"\\n\")\n",
        "\n",
        "# word = \"aloqF\"\n",
        "# splitWord = spellout(word, morphSymbols, morphFST)\n",
        "# wordTranslation = spellout(word, translateSymbols, translateFST)\n",
        "# print(word + \"\\n\" + splitWord + \"\\n\" + wordTranslation + \"\\n\")\n",
        "\n",
        "# word = \"ala'kux\"\n",
        "# splitWord = spellout(word, morphSymbols, morphFST)\n",
        "# wordTranslation = spellout(word, translateSymbols, translateFST)\n",
        "# print(word + \"\\n\" + splitWord + \"\\n\" + wordTranslation + \"\\n\")\n",
        "\n",
        "# word = \"aliHr\"\n",
        "# splitWord = spellout(word, morphSymbols, morphFST)\n",
        "# wordTranslation = spellout(word, translateSymbols, translateFST)\n",
        "# print(word + \"\\n\" + splitWord + \"\\n\" + wordTranslation + \"\\n\")\n",
        "\n",
        "# word = \"aliHnex\"\n",
        "# splitWord = spellout(word, morphSymbols, morphFST)\n",
        "# wordTranslation = spellout(word, translateSymbols, translateFST)\n",
        "# print(word + \"\\n\" + splitWord + \"\\n\" + wordTranslation + \"\\n\")\n",
        "\n",
        "# word = \"aliHnuxk\"\n",
        "# splitWord = spellout(word, morphSymbols, morphFST)\n",
        "# wordTranslation = spellout(word, translateSymbols, translateFST)\n",
        "# print(word + \"\\n\" + splitWord + \"\\n\" + wordTranslation + \"\\n\")\n",
        "\n",
        "# Testing Script (given)\n",
        "print(\"First you'll see the expected output, and then the output of the student\\n\")\n",
        "\n",
        "print(\"01. Input:       aleH (\\\"I cook\\\")\\n    Morphs:      al-eH / \" + spellout(\"aleH\", morphSymbols, morphFST) + \"\\n    Translation: cook-IPFV / \" + spellout(\"aleH\", translateSymbols, translateFST) + \"\\n\")\n",
        "print(\"02. Input:       ali' (\\\"I cooked\\\")\\n    Morphs:      al-i' / \" + spellout(\"ali'\", morphSymbols, morphFST) + \"\\n    Translation: cook-THEME.PFV.IMPROSP / \" + spellout(\"ali'\", translateSymbols, translateFST) + \"\\n\")\n",
        "print(\"03. Input:       aloqFk (\\\"to cook\\\")\\n    Morphs:      al-oqFk / \" + spellout(\"aloqFk\", morphSymbols, morphFST) + \"\\n    Translation: cook-INF / \" + spellout(\"aloqFk\", translateSymbols, translateFST) + \"\\n\")\n",
        "print(\"04. Input:       aloqF (\\\"Cook!\\\")\\n    Morphs:      al-oqF / \" + spellout(\"aloqF\", morphSymbols, morphFST) + \"\\n    Translation: cook-IMP / \" + spellout(\"aloqF\", translateSymbols, translateFST) + \"\\n\")\n",
        "print(\"05. Input:       ala'kux (\\\"I want to cook\\\")\\n    Morphs:      al-a'kux / \" + spellout(\"ala'kux\", morphSymbols, morphFST) + \"\\n    Translation: cook-DESIDERATIVE / \" + spellout(\"ala'kux\", translateSymbols, translateFST) + \"\\n\")\n",
        "print(\"15. Input:       aliHr (\\\"It is being cooked\\\")\\n    Morphs:      al-iHr / \" + spellout(\"aliHr\", morphSymbols, morphFST) + \"\\n    Translation: cook-THEME.MID.IPFV / \" + spellout(\"aliHr\", translateSymbols, translateFST) + \"\\n\")\n",
        "print(\"16. Input:       aliHnex (\\\"It became cooked\\\")\\n    Morphs:      al-iHn-ex / \" + spellout(\"aliHnex\", morphSymbols, morphFST) + \"\\n    Translation: cook-THEME.MID-PFV.IMPROSP / \" + spellout(\"aliHnex\", translateSymbols, translateFST) + \"\\n\")\n",
        "print(\"17. Input:       aliHnuxk (\\\"to be cooked\\\")\\n    Morphs:      al-iHn-uxk / \" + spellout(\"aliHnuxk\", morphSymbols, morphFST) + \"\\n    Translation: cook-THEME.MID-INF / \" + spellout(\"aliHnuxk\", translateSymbols, translateFST) + \"\\n\")\n",
        "\n",
        "print(\"03. Input:       tsakoqFk (\\\"to pop (a bubble), to puncture an object\\\")\\n    Morphs:      tsak-oqFk / \" + spellout(\"tsakoqFk\", morphSymbols, morphFST) + \"\\n    Translation: pop-INF / \" + spellout(\"tsakoqFk\", translateSymbols, translateFST) + \"\\n\")\n",
        "print(\"03. Input:       bioqFk (\\\"to dig, to make a hole in the ground\\\")\\n    Morphs:      bi-oqFk / \" + spellout(\"bioqFk\", morphSymbols, morphFST) + \"\\n    Translation: dig-INF / \" + spellout(\"bioqFk\", translateSymbols, translateFST) + \"\\n\")\n",
        "\n",
        "print(\"02. Input:       bi' (\\\"has dug\\\")\\n    Morphs:      bi' / \" + spellout(\"bi'\", morphSymbols, morphFST) + \"\\n    Translation: dig-THEME.PFV.IMPROSP / \" + spellout(\"bi'\", translateSymbols, translateFST) + \"\\n\")\n",
        "print(\"02. Input:       tsaki' (\\\"has popped\\\")\\n    Morphs:      tsaki' / \" + spellout(\"tsaki'\", morphSymbols, morphFST) + \"\\n    Translation: pop-THEME.PFV.IMPROSP / \" + spellout(\"tsaki'\", translateSymbols, translateFST) + \"\\n\")"
      ]
    },
    {
      "cell_type": "markdown",
      "metadata": {
        "id": "iQ9N12bmjhC9"
      },
      "source": [
        "Step 7: Draw the FST transitions for the translation graph"
      ]
    },
    {
      "cell_type": "code",
      "execution_count": 16,
      "metadata": {
        "id": "dq5rvoYEXyao"
      },
      "outputs": [],
      "source": [
        "def showImage(filename):\n",
        "  render('dot','png',filename)    # Create PNG file (you can find it in the file structure of the virtual machine)\n",
        "  img_color = cv2.rotate(cv2.imread(filename+\".png\",1), cv2.ROTATE_90_CLOCKWISE)  # Rotate PNG file\n",
        "  cv2.imwrite(filename+\".png\", img_color)    # Write rotated PNG file\n",
        "  im = Image.open(filename+\".png\")           # Open rotated file with Python Image Library (PIL)\n",
        "  im.show()                                  # Display file"
      ]
    },
    {
      "cell_type": "code",
      "execution_count": 17,
      "metadata": {
        "id": "ePp4BvH0j4lC",
        "colab": {
          "base_uri": "https://localhost:8080/",
          "height": 182
        },
        "outputId": "0faf5737-ef53-44b4-c40c-58d9b2089fa3"
      },
      "outputs": [
        {
          "output_type": "display_data",
          "data": {
            "text/plain": [
              "<PIL.PngImagePlugin.PngImageFile image mode=RGB size=816x165 at 0x7F91640AC520>"
            ],
            "image/png": "[encoded data removed]"
          },
          "metadata": {}
        }
      ],
      "source": [
        "translateFST.draw(\"translate.gv\")\n",
        "showImage(\"translate.gv\")"
      ]
    },
    {
      "cell_type": "markdown",
      "metadata": {
        "id": "ZeVsdGaPSGS_"
      },
      "source": [
        "Draw the FST transitions for the morphological decomposition graph"
      ]
    },
    {
      "cell_type": "code",
      "execution_count": 18,
      "metadata": {
        "id": "m0BlSAMcSF0b",
        "colab": {
          "base_uri": "https://localhost:8080/",
          "height": 225
        },
        "outputId": "4647b052-7ac7-4a69-e449-03e166455032"
      },
      "outputs": [
        {
          "output_type": "display_data",
          "data": {
            "text/plain": [
              "<PIL.PngImagePlugin.PngImageFile image mode=RGB size=816x208 at 0x7F9132442D00>"
            ],
            "image/png": "[encoded data removed]"
          },
          "metadata": {}
        }
      ],
      "source": [
        "morphFST.draw(\"morph.gv\")\n",
        "showImage(\"morph.gv\")"
      ]
    },
    {
      "cell_type": "markdown",
      "metadata": {
        "id": "wSjvDFONjkff"
      },
      "source": [
        "Step 8: Save the graph into a PDF file.\n",
        "\n",
        "(This works for Google Chrome. Read here:\n",
        "https://stackoverflow.com/questions/48774285/how-to-download-file-created-in-colaboratory-workspace )"
      ]
    },
    {
      "cell_type": "code",
      "execution_count": 19,
      "metadata": {
        "id": "UwQTW6sCfLz0",
        "colab": {
          "base_uri": "https://localhost:8080/",
          "height": 17
        },
        "outputId": "9dc7755e-1c1f-4364-a633-5e7cc25e89ed"
      },
      "outputs": [
        {
          "output_type": "display_data",
          "data": {
            "text/plain": [
              "<IPython.core.display.Javascript object>"
            ],
            "application/javascript": [
              "\n",
              "    async function download(id, filename, size) {\n",
              "      if (!google.colab.kernel.accessAllowed) {\n",
              "        return;\n",
              "      }\n",
              "      const div = document.createElement('div');\n",
              "      const label = document.createElement('label');\n",
              "      label.textContent = `Downloading \"${filename}\": `;\n",
              "      div.appendChild(label);\n",
              "      const progress = document.createElement('progress');\n",
              "      progress.max = size;\n",
              "      div.appendChild(progress);\n",
              "      document.body.appendChild(div);\n",
              "\n",
              "      const buffers = [];\n",
              "      let downloaded = 0;\n",
              "\n",
              "      const channel = await google.colab.kernel.comms.open(id);\n",
              "      // Send a message to notify the kernel that we're ready.\n",
              "      channel.send({})\n",
              "\n",
              "      for await (const message of channel.messages) {\n",
              "        // Send a message to notify the kernel that we're ready.\n",
              "        channel.send({})\n",
              "        if (message.buffers) {\n",
              "          for (const buffer of message.buffers) {\n",
              "            buffers.push(buffer);\n",
              "            downloaded += buffer.byteLength;\n",
              "            progress.value = downloaded;\n",
              "          }\n",
              "        }\n",
              "      }\n",
              "      const blob = new Blob(buffers, {type: 'application/binary'});\n",
              "      const a = document.createElement('a');\n",
              "      a.href = window.URL.createObjectURL(blob);\n",
              "      a.download = filename;\n",
              "      div.appendChild(a);\n",
              "      a.click();\n",
              "      div.remove();\n",
              "    }\n",
              "  "
            ]
          },
          "metadata": {}
        },
        {
          "output_type": "display_data",
          "data": {
            "text/plain": [
              "<IPython.core.display.Javascript object>"
            ],
            "application/javascript": [
              "download(\"download_ff895232-a3b7-47d2-9f8b-62d00079b423\", \"translate.gv.pdf\", 20745)"
            ]
          },
          "metadata": {}
        }
      ],
      "source": [
        "render('dot','pdf','translate.gv')\n",
        "files.download('translate.gv.pdf')"
      ]
    },
    {
      "cell_type": "code",
      "execution_count": 20,
      "metadata": {
        "id": "tDqybm-HSNw6",
        "colab": {
          "base_uri": "https://localhost:8080/",
          "height": 17
        },
        "outputId": "f994cc01-0b78-4151-9b43-1e16aa9e4433"
      },
      "outputs": [
        {
          "output_type": "display_data",
          "data": {
            "text/plain": [
              "<IPython.core.display.Javascript object>"
            ],
            "application/javascript": [
              "\n",
              "    async function download(id, filename, size) {\n",
              "      if (!google.colab.kernel.accessAllowed) {\n",
              "        return;\n",
              "      }\n",
              "      const div = document.createElement('div');\n",
              "      const label = document.createElement('label');\n",
              "      label.textContent = `Downloading \"${filename}\": `;\n",
              "      div.appendChild(label);\n",
              "      const progress = document.createElement('progress');\n",
              "      progress.max = size;\n",
              "      div.appendChild(progress);\n",
              "      document.body.appendChild(div);\n",
              "\n",
              "      const buffers = [];\n",
              "      let downloaded = 0;\n",
              "\n",
              "      const channel = await google.colab.kernel.comms.open(id);\n",
              "      // Send a message to notify the kernel that we're ready.\n",
              "      channel.send({})\n",
              "\n",
              "      for await (const message of channel.messages) {\n",
              "        // Send a message to notify the kernel that we're ready.\n",
              "        channel.send({})\n",
              "        if (message.buffers) {\n",
              "          for (const buffer of message.buffers) {\n",
              "            buffers.push(buffer);\n",
              "            downloaded += buffer.byteLength;\n",
              "            progress.value = downloaded;\n",
              "          }\n",
              "        }\n",
              "      }\n",
              "      const blob = new Blob(buffers, {type: 'application/binary'});\n",
              "      const a = document.createElement('a');\n",
              "      a.href = window.URL.createObjectURL(blob);\n",
              "      a.download = filename;\n",
              "      div.appendChild(a);\n",
              "      a.click();\n",
              "      div.remove();\n",
              "    }\n",
              "  "
            ]
          },
          "metadata": {}
        },
        {
          "output_type": "display_data",
          "data": {
            "text/plain": [
              "<IPython.core.display.Javascript object>"
            ],
            "application/javascript": [
              "download(\"download_02402f8d-9d4a-47c7-a1e1-213df0d8188a\", \"morph.gv.pdf\", 17127)"
            ]
          },
          "metadata": {}
        }
      ],
      "source": [
        "render('dot','pdf','morph.gv')\n",
        "files.download('morph.gv.pdf')"
      ]
    },
    {
      "cell_type": "code",
      "source": [],
      "metadata": {
        "id": "wRUJ8ZrzqoCz"
      },
      "execution_count": null,
      "outputs": []
    }
  ],
  "metadata": {
    "colab": {
      "provenance": []
    },
    "kernelspec": {
      "display_name": "Python 3 (ipykernel)",
      "language": "python",
      "name": "python3"
    },
    "language_info": {
      "codemirror_mode": {
        "name": "ipython",
        "version": 3
      },
      "file_extension": ".py",
      "mimetype": "text/x-python",
      "name": "python",
      "nbconvert_exporter": "python",
      "pygments_lexer": "ipython3",
      "version": "3.9.1"
    }
  },
  "nbformat": 4,
  "nbformat_minor": 0
}