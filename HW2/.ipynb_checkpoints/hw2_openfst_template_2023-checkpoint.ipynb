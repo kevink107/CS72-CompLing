{
 "cells": [
  {
   "cell_type": "markdown",
   "metadata": {
    "id": "nxkCnraZi_d2"
   },
   "source": [
    "# Exercise 2: Finite State Transducers\n",
    "Dartmouth College, LING48, Spring 2023<br>\n",
    "Kevin King (kevin.m.king.24@dartmouth.edu)<br>\n",
    "\n",
    "This program uses the `openfst` and `graphviz` packages:<br>\n",
    "http://www.openfst.org/twiki/bin/view/FST/PythonExtension<br>\n",
    "https://graphviz.readthedocs.io/en/stable/manual.html\n",
    "\n",
    "**EDIT THIS TO MAKE IT MORE SPECIFIC TO THE ASSIGNMENT (3-4 SENTENCES DESCRIBING THE ENTIRE PROGRAM)\n",
    "\n",
    "In this small example, you will see a transductor that reads English words and decomposes them morphologically. For example:\n",
    "\n",
    ">cats -> cat-PL<br>\n",
    ">dogs -> dog-PL<br>\n",
    ">cities -> city-PL\n",
    "\n",
    "This program has four parts:\n",
    "\n",
    "(1) First, we have the `fstSymbols`. This is the list of all of the elements you are going to have in the FST. (Practical advice: Make your transitions on paper first, and THEN figure out the symbols as you go).\n",
    "\n",
    "(2) Second, we have a list of compiler instructions. This is the list of all the transitions and final states in the FST.\n",
    "\n",
    "(3) Third, we have the `spellout` function. This function has the string as its input, and then goes character by character, calculating the path through the FST and its corresponding transformations.\n",
    "\n",
    "(4) Finally, we have a function that prints the FST into a PDF so you can see the transitions graphically. (You do not need to modify this)"
   ]
  },
  {
   "cell_type": "markdown",
   "metadata": {
    "id": "oPOUc8ZWjGjG"
   },
   "source": [
    "Step 1: Install the necessary packages.\n",
    "\n",
    "These are available for Linux computers on Anaconda, but they are not available for Windows Anaconda and they are difficult to install in MacOS Anaconda (https://anaconda.org/conda-forge/openfst)."
   ]
  },
  {
   "cell_type": "code",
   "execution_count": 10,
   "metadata": {
    "id": "9XYYzwUvd6Lr"
   },
   "outputs": [
    {
     "name": "stdout",
     "output_type": "stream",
     "text": [
      "env: PYTHONPATH=\n",
      "\n",
      "--2023-04-11 15:57:33--  https://repo.anaconda.com/miniconda/Miniconda3-py37_4.12.0-Linux-x86_64.sh\n",
      "Resolving repo.anaconda.com (repo.anaconda.com)... 104.16.131.3, 104.16.130.3\n",
      "Connecting to repo.anaconda.com (repo.anaconda.com)|104.16.131.3|:443... connected.\n",
      "HTTP request sent, awaiting response... 200 OK\n",
      "Length: 104996770 (100M) [application/x-sh]\n",
      "Saving to: ‘Miniconda3-py37_4.12.0-Linux-x86_64.sh.5’\n",
      "\n",
      "Miniconda3-py37_4.1 100%[===================>] 100.13M  40.4MB/s    in 2.5s    \n",
      "\n",
      "2023-04-11 15:57:36 (40.4 MB/s) - ‘Miniconda3-py37_4.12.0-Linux-x86_64.sh.5’ saved [104996770/104996770]\n",
      "\n",
      "PREFIX=/usr/local\n",
      "./Miniconda3-py37_4.12.0-Linux-x86_64.sh: line 378: md5sum: command not found\n",
      "tail: stdout: Broken pipe\n",
      "WARNING: md5sum mismatch of tar archive\n",
      "expected: 3f39ff932bd6f3b022eec88cc48a7ed4\n",
      "     got: \n",
      "./Miniconda3-py37_4.12.0-Linux-x86_64.sh: line 400: /usr/local/conda.exe: Permission denied\n",
      "chmod: /usr/local/conda.exe: No such file or directory\n",
      "Unpacking payload ...\n",
      "./Miniconda3-py37_4.12.0-Linux-x86_64.sh: line 412: /usr/local/conda.exe: No such file or directory\n",
      "./Miniconda3-py37_4.12.0-Linux-x86_64.sh: line 414: /usr/local/conda.exe: No such file or directory\n",
      "/bin/bash: conda: command not found\n",
      "/bin/bash: conda: command not found\n"
     ]
    }
   ],
   "source": [
    "# This will install Python 3.7 in the virtual computer.\n",
    "# This is needed to run the FST packages\n",
    "# This should take about 40 seconds\n",
    "\n",
    "%env PYTHONPATH=\n",
    "!echo $PYTHONPATH\n",
    "\n",
    "! wget https://repo.anaconda.com/miniconda/Miniconda3-py37_4.12.0-Linux-x86_64.sh\n",
    "! chmod +x Miniconda3-py37_4.12.0-Linux-x86_64.sh\n",
    "! bash ./Miniconda3-py37_4.12.0-Linux-x86_64.sh -b -f -p /usr/local/\n",
    "\n",
    "import sys\n",
    "sys.path.append(\"/usr/local/lib/python3.7/site-packages\")\n",
    "!conda config --add channels bioconda\n",
    "!conda config --add channels conda-forge"
   ]
  },
  {
   "cell_type": "code",
   "execution_count": 11,
   "metadata": {
    "id": "bYy7rDiBe3id",
    "tags": []
   },
   "outputs": [
    {
     "name": "stdout",
     "output_type": "stream",
     "text": [
      "Collecting openfst-python\n",
      "  Using cached openfst_python-1.7.2.tar.gz (11 kB)\n",
      "  Preparing metadata (setup.py) ... \u001b[?25ldone\n",
      "\u001b[?25hBuilding wheels for collected packages: openfst-python\n",
      "  Building wheel for openfst-python (setup.py) ... \u001b[?25lerror\n",
      "  \u001b[1;31merror\u001b[0m: \u001b[1msubprocess-exited-with-error\u001b[0m\n",
      "  \n",
      "  \u001b[31m×\u001b[0m \u001b[32mpython setup.py bdist_wheel\u001b[0m did not run successfully.\n",
      "  \u001b[31m│\u001b[0m exit code: \u001b[1;36m1\u001b[0m\n",
      "  \u001b[31m╰─>\u001b[0m \u001b[31m[14 lines of output]\u001b[0m\n",
      "  \u001b[31m   \u001b[0m running bdist_wheel\n",
      "  \u001b[31m   \u001b[0m running build\n",
      "  \u001b[31m   \u001b[0m running build_py\n",
      "  \u001b[31m   \u001b[0m creating build\n",
      "  \u001b[31m   \u001b[0m creating build/lib.macosx-10.9-x86_64-3.9\n",
      "  \u001b[31m   \u001b[0m creating build/lib.macosx-10.9-x86_64-3.9/openfst_python\n",
      "  \u001b[31m   \u001b[0m copying openfst_python/__init__.py -> build/lib.macosx-10.9-x86_64-3.9/openfst_python\n",
      "  \u001b[31m   \u001b[0m copying openfst_python/test.py -> build/lib.macosx-10.9-x86_64-3.9/openfst_python\n",
      "  \u001b[31m   \u001b[0m running build_ext\n",
      "  \u001b[31m   \u001b[0m downloading from http://www.openfst.org/twiki/pub/FST/FstDownload/openfst-1.7.2.tar.gz\n",
      "  \u001b[31m   \u001b[0m /Library/Frameworks/Python.framework/Versions/3.9/lib/python3.9/site-packages/urllib3/connectionpool.py:1043: InsecureRequestWarning: Unverified HTTPS request is being made to host 'www.openfst.org'. Adding certificate verification is strongly advised. See: https://urllib3.readthedocs.io/en/1.26.x/advanced-usage.html#ssl-warnings\n",
      "  \u001b[31m   \u001b[0m   warnings.warn(\n",
      "  \u001b[31m   \u001b[0m copying ac_python_devel.m4 -> build/temp.macosx-10.9-x86_64-3.9/openfst-1.7.2/m4\n",
      "  \u001b[31m   \u001b[0m error: [Errno 2] No such file or directory: 'aclocal'\n",
      "  \u001b[31m   \u001b[0m \u001b[31m[end of output]\u001b[0m\n",
      "  \n",
      "  \u001b[1;35mnote\u001b[0m: This error originates from a subprocess, and is likely not a problem with pip.\n",
      "\u001b[31m  ERROR: Failed building wheel for openfst-python\u001b[0m\u001b[31m\n",
      "\u001b[0m\u001b[?25h  Running setup.py clean for openfst-python\n",
      "Failed to build openfst-python\n",
      "Installing collected packages: openfst-python\n",
      "  Running setup.py install for openfst-python ... \u001b[?25lerror\n",
      "  \u001b[1;31merror\u001b[0m: \u001b[1msubprocess-exited-with-error\u001b[0m\n",
      "  \n",
      "  \u001b[31m×\u001b[0m \u001b[32mRunning setup.py install for openfst-python\u001b[0m did not run successfully.\n",
      "  \u001b[31m│\u001b[0m exit code: \u001b[1;36m1\u001b[0m\n",
      "  \u001b[31m╰─>\u001b[0m \u001b[31m[14 lines of output]\u001b[0m\n",
      "  \u001b[31m   \u001b[0m running install\n",
      "  \u001b[31m   \u001b[0m running build\n",
      "  \u001b[31m   \u001b[0m running build_py\n",
      "  \u001b[31m   \u001b[0m creating build\n",
      "  \u001b[31m   \u001b[0m creating build/lib.macosx-10.9-x86_64-3.9\n",
      "  \u001b[31m   \u001b[0m creating build/lib.macosx-10.9-x86_64-3.9/openfst_python\n",
      "  \u001b[31m   \u001b[0m copying openfst_python/__init__.py -> build/lib.macosx-10.9-x86_64-3.9/openfst_python\n",
      "  \u001b[31m   \u001b[0m copying openfst_python/test.py -> build/lib.macosx-10.9-x86_64-3.9/openfst_python\n",
      "  \u001b[31m   \u001b[0m running build_ext\n",
      "  \u001b[31m   \u001b[0m downloading from http://www.openfst.org/twiki/pub/FST/FstDownload/openfst-1.7.2.tar.gz\n",
      "  \u001b[31m   \u001b[0m /Library/Frameworks/Python.framework/Versions/3.9/lib/python3.9/site-packages/urllib3/connectionpool.py:1043: InsecureRequestWarning: Unverified HTTPS request is being made to host 'www.openfst.org'. Adding certificate verification is strongly advised. See: https://urllib3.readthedocs.io/en/1.26.x/advanced-usage.html#ssl-warnings\n",
      "  \u001b[31m   \u001b[0m   warnings.warn(\n",
      "  \u001b[31m   \u001b[0m copying ac_python_devel.m4 -> build/temp.macosx-10.9-x86_64-3.9/openfst-1.7.2/m4\n",
      "  \u001b[31m   \u001b[0m error: [Errno 2] No such file or directory: 'aclocal'\n",
      "  \u001b[31m   \u001b[0m \u001b[31m[end of output]\u001b[0m\n",
      "  \n",
      "  \u001b[1;35mnote\u001b[0m: This error originates from a subprocess, and is likely not a problem with pip.\n",
      "\u001b[1;31merror\u001b[0m: \u001b[1mlegacy-install-failure\u001b[0m\n",
      "\n",
      "\u001b[31m×\u001b[0m Encountered error while trying to install package.\n",
      "\u001b[31m╰─>\u001b[0m openfst-python\n",
      "\n",
      "\u001b[1;35mnote\u001b[0m: This is an issue with the package mentioned above, not pip.\n",
      "\u001b[1;36mhint\u001b[0m: See above for output from the failure.\n",
      "\n",
      "\u001b[1m[\u001b[0m\u001b[34;49mnotice\u001b[0m\u001b[1;39;49m]\u001b[0m\u001b[39;49m A new release of pip available: \u001b[0m\u001b[31;49m22.3.1\u001b[0m\u001b[39;49m -> \u001b[0m\u001b[32;49m23.0.1\u001b[0m\n",
      "\u001b[1m[\u001b[0m\u001b[34;49mnotice\u001b[0m\u001b[1;39;49m]\u001b[0m\u001b[39;49m To update, run: \u001b[0m\u001b[32;49mpip install --upgrade pip\u001b[0m\n",
      "\u001b[?25hRequirement already satisfied: graphviz in /Library/Frameworks/Python.framework/Versions/3.9/lib/python3.9/site-packages (0.20.1)\n",
      "\n",
      "\u001b[1m[\u001b[0m\u001b[34;49mnotice\u001b[0m\u001b[1;39;49m]\u001b[0m\u001b[39;49m A new release of pip available: \u001b[0m\u001b[31;49m22.3.1\u001b[0m\u001b[39;49m -> \u001b[0m\u001b[32;49m23.0.1\u001b[0m\n",
      "\u001b[1m[\u001b[0m\u001b[34;49mnotice\u001b[0m\u001b[1;39;49m]\u001b[0m\u001b[39;49m To update, run: \u001b[0m\u001b[32;49mpip install --upgrade pip\u001b[0m\n"
     ]
    }
   ],
   "source": [
    "!pip install openfst-python\n",
    "!pip install graphviz"
   ]
  },
  {
   "cell_type": "markdown",
   "metadata": {
    "id": "WytlXCFujLBY"
   },
   "source": [
    "Step 2: Load packages"
   ]
  },
  {
   "cell_type": "code",
   "execution_count": 12,
   "metadata": {
    "id": "GmGq2bq8e5dx"
   },
   "outputs": [
    {
     "ename": "ModuleNotFoundError",
     "evalue": "No module named 'openfst_python'",
     "output_type": "error",
     "traceback": [
      "\u001b[0;31m---------------------------------------------------------------------------\u001b[0m",
      "\u001b[0;31mModuleNotFoundError\u001b[0m                       Traceback (most recent call last)",
      "Input \u001b[0;32mIn [12]\u001b[0m, in \u001b[0;36m<cell line: 1>\u001b[0;34m()\u001b[0m\n\u001b[0;32m----> 1\u001b[0m \u001b[38;5;28;01mimport\u001b[39;00m \u001b[38;5;21;01mopenfst_python\u001b[39;00m \u001b[38;5;28;01mas\u001b[39;00m \u001b[38;5;21;01mfst\u001b[39;00m\n\u001b[1;32m      2\u001b[0m \u001b[38;5;28;01mfrom\u001b[39;00m \u001b[38;5;21;01mgraphviz\u001b[39;00m \u001b[38;5;28;01mimport\u001b[39;00m render\n\u001b[1;32m      3\u001b[0m \u001b[38;5;28;01mimport\u001b[39;00m \u001b[38;5;21;01mgraphviz\u001b[39;00m\n",
      "\u001b[0;31mModuleNotFoundError\u001b[0m: No module named 'openfst_python'"
     ]
    }
   ],
   "source": [
    "import openfst_python as fst\n",
    "from graphviz import render\n",
    "import graphviz\n",
    "import cv2\n",
    "from PIL import Image\n",
    "from google.colab import files"
   ]
  },
  {
   "cell_type": "markdown",
   "metadata": {
    "id": "Qxe7okxAjRT9"
   },
   "source": [
    "Step 3: The following four functions (linear_fst, apply_fst, accepted, spellout) carry out the FST processing. You do NOT need to modify them."
   ]
  },
  {
   "cell_type": "code",
   "execution_count": null,
   "metadata": {
    "id": "Wxkcsw1de85L"
   },
   "outputs": [],
   "source": [
    "def linear_fst(elements, automata_op, keep_isymbols=True, **kwargs):\n",
    "    \"\"\"Produce a linear automata.\"\"\"\n",
    "    compiler = fst.Compiler(isymbols=automata_op.input_symbols().copy(), \n",
    "                            acceptor=keep_isymbols,\n",
    "                            keep_isymbols=keep_isymbols, \n",
    "                            **kwargs)\n",
    "\n",
    "    for i, el in enumerate(elements):\n",
    "        print(\"{} {} {}\".format(i, i+1, el),file=compiler)\n",
    "    print(str(i+1),file=compiler)\n",
    "\n",
    "    return compiler.compile()\n",
    "\n",
    "def apply_fst(elements, automata_op, is_project=True, **kwargs):\n",
    "    \"\"\"Compose a linear automata generated from `elements` with `automata_op`.\n",
    "\n",
    "    Args:\n",
    "        elements (list): ordered list of edge symbols for a linear automata.\n",
    "        automata_op (Fst): automata that will be applied.\n",
    "        is_project (bool, optional): whether to keep only the output labels.\n",
    "        kwargs:\n",
    "            Additional arguments to the compiler of the linear automata .\n",
    "    \"\"\"\n",
    "    linear_automata = linear_fst(elements, automata_op, **kwargs)\n",
    "    out = fst.compose(linear_automata, automata_op)\n",
    "    if is_project:\n",
    "        out.project(project_output=True)\n",
    "    return out\n",
    "\n",
    "def accepted(output_apply):\n",
    "    \"\"\"Given the output of `apply_fst` for acceptor, return True is sting was accepted.\"\"\"\n",
    "    return output_apply.num_states() != 0\n",
    "\n",
    "def spellout(inputString, inSymbols, inFST):\n",
    "\toutput=\"\"\n",
    "\tcurrentFST = apply_fst(list(inputString), inFST)\n",
    "\tfor state in currentFST.states():\n",
    "\t\tfor arc in currentFST.arcs(state):\n",
    "\t\t\tif (inSymbols.find(arc.olabel) != \"<eps>\"):\n",
    "\t\t\t\toutput += inSymbols.find(arc.olabel)\n",
    "\treturn output"
   ]
  },
  {
   "cell_type": "markdown",
   "metadata": {
    "id": "3kcIGzl6jWgK"
   },
   "source": [
    "Step 4: List of symbols\n",
    "\n",
    "You need to modify the list below to match the symbols you need. My advice would be:<br>\n",
    "(1) Draw the lattice on a piece of paper,<br>\n",
    "(2) Make a list of the transitions, and<br>\n",
    "(3) As you go through the transitions, include your symbolss in the symbol list.\n",
    "\n",
    "Notice that the first symbol is the \"epsilon\", for when you expect empty strings."
   ]
  },
  {
   "cell_type": "code",
   "execution_count": null,
   "metadata": {
    "id": "d1rG_3cGe_NU"
   },
   "outputs": [],
   "source": [
    "morphSymbols = fst.SymbolTable()\n",
    "morphSymbols.add_symbol(\"<eps>\", 0)\n",
    "morphSymbols.add_symbol(\"c\", 1)\n",
    "morphSymbols.add_symbol(\"a\", 2)\n",
    "morphSymbols.add_symbol(\"t\", 3)\n",
    "morphSymbols.add_symbol(\"s\", 4)\n",
    "morphSymbols.add_symbol(\"-s\", 5)\n",
    "morphSymbols.add_symbol(\"d\", 6)\n",
    "morphSymbols.add_symbol(\"o\", 7)\n",
    "morphSymbols.add_symbol(\"g\", 8)\n",
    "morphSymbols.add_symbol(\"i\", 9)\n",
    "morphSymbols.add_symbol(\"y\", 10)\n",
    "morphSymbols.add_symbol(\"e\", 11)\n",
    "morphSymbols.add_symbol(\"y-s\", 12)"
   ]
  },
  {
   "cell_type": "code",
   "execution_count": null,
   "metadata": {
    "id": "tniQPJZ6R2FY"
   },
   "outputs": [],
   "source": [
    "translateSymbols = fst.SymbolTable()\n",
    "translateSymbols.add_symbol(\"<eps>\", 0)\n",
    "translateSymbols.add_symbol(\"c\", 1)\n",
    "translateSymbols.add_symbol(\"a\", 2)\n",
    "translateSymbols.add_symbol(\"t\", 3)\n",
    "translateSymbols.add_symbol(\"s\", 4)\n",
    "translateSymbols.add_symbol(\"-PL\", 5)\n",
    "translateSymbols.add_symbol(\"d\", 6)\n",
    "translateSymbols.add_symbol(\"o\", 7)\n",
    "translateSymbols.add_symbol(\"g\", 8)\n",
    "translateSymbols.add_symbol(\"i\", 9)\n",
    "translateSymbols.add_symbol(\"y\", 10)\n",
    "translateSymbols.add_symbol(\"e\", 11)\n",
    "translateSymbols.add_symbol(\"y-PL\", 12)"
   ]
  },
  {
   "cell_type": "markdown",
   "metadata": {
    "id": "YnsKGhADjZnt"
   },
   "source": [
    "Step 5: Build the transitions of the FSTs. You need to modify the list below. This is where you would put the transitions and the end states of your FST."
   ]
  },
  {
   "cell_type": "code",
   "execution_count": null,
   "metadata": {
    "id": "mpu5NQPNfBhI"
   },
   "outputs": [],
   "source": [
    "compiler = fst.Compiler(isymbols=morphSymbols, osymbols=morphSymbols, keep_isymbols=True, keep_osymbols=True)\n",
    "\n",
    "# You do *not* need to comment every line. I put the comments below to\n",
    "# make the program clearer, but you do not need to comment in such detail.\n",
    "\n",
    "print(\"0 1 c c\",file=compiler)           # Transition from the start (state 0) to state 1. You get a 'c' and return a 'c'\n",
    "print(\"1 2 a a\",file=compiler)           # Transition from state 1 to state 2. You get an 'a' and return an 'a'\n",
    "print(\"2 3 t t\",file=compiler)           # Transition from state 2 to state 3. You get a 't' and return a 't'\n",
    "print(\"3 4 <eps> <eps>\",file=compiler)   # Transition from state 3 to state 4. You get an epsilon and return another epsilon.\n",
    "print(\"4\",file=compiler)                 # State 4 is an end state. The FST finished recognizing the word \"cat\"\n",
    "print(\"3 5 s -s\",file=compiler)          # Transition from state 3 to state 5. You get an 's' and return \"-s\".\n",
    "print(\"5\",file=compiler)                 # State 5 is an end state. The FST finished recognizing the word \"cats\" as \"cat-s\"\n",
    "print(\"0 6 d d\",file=compiler)           # Transition from state 0 to state 6. You get a 'd' and return a 'd'\n",
    "print(\"6 7 o o\",file=compiler)           # Transition from state 6 to state 7. You get a 'o' and return a 'o'\n",
    "print(\"7 8 g g\",file=compiler)           # Transition from state 7 to state 8. You get a 'g' and return a 'g'\n",
    "print(\"8 9 <eps> <eps>\",file=compiler)   # Transition from state 8 to state 9. You get an epsilon and return another epsilon.\n",
    "print(\"9\",file=compiler)                 # State 9 is an end state. The FST finished recognizing the word \"dog\"\n",
    "print(\"8 10 s -s\",file=compiler)         # Transition from state 8 to state 10. You get a 's' and return '-s'\n",
    "print(\"10\",file=compiler)                # State 10 is an end state. The FST finished recognizing the word \"dogs\" as \"dog-s\"\n",
    "print(\"1 11 i i\",file=compiler)          # Transition from state 1 to state 11. You get a 'i' and return a 'i'\n",
    "print(\"11 12 t t\",file=compiler)         # Transition from state 11 to state 12. You get a 't' and return a 't'\n",
    "print(\"12 13 y y\",file=compiler)         # Transition from state 12 to state 13. You get a 'y' and return a 'y'\n",
    "print(\"13\",file=compiler)                # State 13 is an end state. The FST finished recognizing the word \"city\"\n",
    "print(\"12 14 i <eps>\",file=compiler)     # Transition from state 12 to state 14. You get a 'i' and return an epsilon\n",
    "print(\"14 15 e <eps>\",file=compiler)     # Transition from state 12 to state 14. You get a 'e' and return an epsilon\n",
    "print(\"15 16 s y-s\",file=compiler)       # Transition from state 12 to state 14. You get an 's' and return a \"y-s\"\n",
    "print(\"16\",file=compiler)                # State 16 is an end state. The FST finished recognizing the word \"cities\" as \"city-s\"\n",
    "\n",
    "\n",
    "morphFST = compiler.compile()"
   ]
  },
  {
   "cell_type": "code",
   "execution_count": null,
   "metadata": {
    "id": "f-W3VNvjR5-W"
   },
   "outputs": [],
   "source": [
    "compiler = fst.Compiler(isymbols=translateSymbols, osymbols=translateSymbols, keep_isymbols=True, keep_osymbols=True)\n",
    "\n",
    "# You do *not* need to comment every line. I put the comments below to\n",
    "# make the program clearer, but you do not need to comment in such detail.\n",
    "\n",
    "print(\"0 1 c c\",file=compiler)           # Transition from the start (state 0) to state 1. You get a 'c' and return a 'c'\n",
    "print(\"1 2 a a\",file=compiler)           # Transition from state 1 to state 2. You get an 'a' and return an 'a'\n",
    "print(\"2 3 t t\",file=compiler)           # Transition from state 2 to state 3. You get a 't' and return a 't'\n",
    "print(\"3 4 <eps> <eps>\",file=compiler)   # Transition from state 3 to state 4. You get an epsilon and return another epsilon.\n",
    "print(\"4\",file=compiler)                 # State 4 is an end state. The FST finished recognizing the word \"cat\"\n",
    "print(\"3 5 s -PL\",file=compiler)         # Transition from state 3 to state 5. You get an 's' and return \"-PL\".\n",
    "print(\"5\",file=compiler)                 # State 5 is an end state. The FST finished recognizing the word \"cats\" as \"cat-PL\"\n",
    "print(\"0 6 d d\",file=compiler)           # Transition from state 0 to state 6. You get a 'd' and return a 'd'\n",
    "print(\"6 7 o o\",file=compiler)           # Transition from state 6 to state 7. You get a 'o' and return a 'o'\n",
    "print(\"7 8 g g\",file=compiler)           # Transition from state 7 to state 8. You get a 'g' and return a 'g'\n",
    "print(\"8 9 <eps> <eps>\",file=compiler)   # Transition from state 8 to state 9. You get an epsilon and return another epsilon.\n",
    "print(\"9\",file=compiler)                 # State 9 is an end state. The FST finished recognizing the word \"dog\"\n",
    "print(\"8 10 s -PL\",file=compiler)        # Transition from state 8 to state 10. You get a 's' and return '-PL'\n",
    "print(\"10\",file=compiler)                # State 10 is an end state. The FST finished recognizing the word \"dogs\" as \"dog-PL\"\n",
    "print(\"1 11 i i\",file=compiler)          # Transition from state 1 to state 11. You get a 'i' and return a 'i'\n",
    "print(\"11 12 t t\",file=compiler)         # Transition from state 11 to state 12. You get a 't' and return a 't'\n",
    "print(\"12 13 y y\",file=compiler)         # Transition from state 12 to state 13. You get a 'y' and return a 'y'\n",
    "print(\"13\",file=compiler)                # State 13 is an end state. The FST finished recognizing the word \"city\"\n",
    "print(\"12 14 i <eps>\",file=compiler)     # Transition from state 12 to state 14. You get a 'i' and return an epsilon\n",
    "print(\"14 15 e <eps>\",file=compiler)     # Transition from state 12 to state 14. You get a 'e' and return an epsilon\n",
    "print(\"15 16 s y-PL\",file=compiler)      # Transition from state 12 to state 14. You get an 's' and return a \"y-PL\"\n",
    "print(\"16\",file=compiler)                # State 16 is an end state. The FST finished recognizing the word \"cities\" as \"city-PL\"\n",
    "\n",
    "\n",
    "translateFST = compiler.compile()"
   ]
  },
  {
   "cell_type": "markdown",
   "metadata": {
    "id": "dGeU2JWCjdzC"
   },
   "source": [
    "Step 6: The following are examples for you to see the instructions involved in the morphological analysis. You can uncomment each block to see how it behaves."
   ]
  },
  {
   "cell_type": "code",
   "execution_count": null,
   "metadata": {
    "id": "GcirwMeCfDa8"
   },
   "outputs": [],
   "source": [
    "word = \"cats\"\n",
    "splitWord = spellout(word, morphSymbols, morphFST)\n",
    "wordTranslation = spellout(word, translateSymbols, translateFST)\n",
    "print(word + \"\\n\" + splitWord + \"\\n\" + wordTranslation + \"\\n\")\n",
    "\n",
    "word = \"dogs\"\n",
    "splitWord = spellout(word, morphSymbols, morphFST)\n",
    "wordTranslation = spellout(word, translateSymbols, translateFST)\n",
    "print(word + \"\\n\" + splitWord + \"\\n\" + wordTranslation + \"\\n\")\n",
    "\n",
    "word = \"cities\"\n",
    "splitWord = spellout(word, morphSymbols, morphFST)\n",
    "wordTranslation = spellout(word, translateSymbols, translateFST)\n",
    "print(word + \"\\n\" + splitWord + \"\\n\" + wordTranslation + \"\\n\")"
   ]
  },
  {
   "cell_type": "markdown",
   "metadata": {
    "id": "iQ9N12bmjhC9"
   },
   "source": [
    "Step 7: Draw the FST transitions for the translation graph"
   ]
  },
  {
   "cell_type": "code",
   "execution_count": null,
   "metadata": {
    "id": "dq5rvoYEXyao"
   },
   "outputs": [],
   "source": [
    "def showImage(filename):\n",
    "  render('dot','png',filename)    # Create PNG file (you can find it in the file structure of the virtual machine)\n",
    "  img_color = cv2.rotate(cv2.imread(filename+\".png\",1), cv2.ROTATE_90_CLOCKWISE)  # Rotate PNG file\n",
    "  cv2.imwrite(filename+\".png\", img_color)    # Write rotated PNG file\n",
    "  im = Image.open(filename+\".png\")           # Open rotated file with Python Image Library (PIL)\n",
    "  im.show()                                  # Display file"
   ]
  },
  {
   "cell_type": "code",
   "execution_count": null,
   "metadata": {
    "id": "ePp4BvH0j4lC"
   },
   "outputs": [],
   "source": [
    "translateFST.draw(\"translate.gv\")\n",
    "showImage(\"translate.gv\")"
   ]
  },
  {
   "cell_type": "markdown",
   "metadata": {
    "id": "ZeVsdGaPSGS_"
   },
   "source": [
    "Draw the FST transitions for the morphological decomposition graph"
   ]
  },
  {
   "cell_type": "code",
   "execution_count": null,
   "metadata": {
    "id": "m0BlSAMcSF0b"
   },
   "outputs": [],
   "source": [
    "morphFST.draw(\"morph.gv\")\n",
    "showImage(\"morph.gv\")"
   ]
  },
  {
   "cell_type": "markdown",
   "metadata": {
    "id": "wSjvDFONjkff"
   },
   "source": [
    "Step 8: Save the graph into a PDF file.\n",
    "\n",
    "(This works for Google Chrome. Read here:\n",
    "https://stackoverflow.com/questions/48774285/how-to-download-file-created-in-colaboratory-workspace )"
   ]
  },
  {
   "cell_type": "code",
   "execution_count": null,
   "metadata": {
    "id": "UwQTW6sCfLz0"
   },
   "outputs": [],
   "source": [
    "render('dot','pdf','translate.gv')\n",
    "files.download('translate.gv.pdf')"
   ]
  },
  {
   "cell_type": "code",
   "execution_count": null,
   "metadata": {
    "id": "tDqybm-HSNw6"
   },
   "outputs": [],
   "source": [
    "render('dot','pdf','morph.gv')\n",
    "files.download('morph.gv.pdf')"
   ]
  },
  {
   "cell_type": "code",
   "execution_count": null,
   "metadata": {},
   "outputs": [],
   "source": [
    "# Testing\n",
    "print(\"First you'll see the expected output, and then the output of the student\\n\")\n",
    "\n",
    "print(\"01. Input:       aleH (\\\"I cook\\\")\\n    Morphs:      al-eH / \" + spellout(\"aleH\", morphSymbols, morphFST) + \"\\n    Translation: cook-IPFV / \" + spellout(\"aleH\", translateSymbols, translateFST) + \"\\n\")\n",
    "print(\"02. Input:       ali' (\\\"I cooked\\\")\\n    Morphs:      al-i' / \" + spellout(\"ali'\", morphSymbols, morphFST) + \"\\n    Translation: cook-THEME.PFV.IMPROSP / \" + spellout(\"ali'\", translateSymbols, translateFST) + \"\\n\")\n",
    "print(\"03. Input:       aloqFk (\\\"to cook\\\")\\n    Morphs:      al-oqFk / \" + spellout(\"aloqFk\", morphSymbols, morphFST) + \"\\n    Translation: cook-INF / \" + spellout(\"aloqFk\", translateSymbols, translateFST) + \"\\n\")\n",
    "print(\"04. Input:       aloqF (\\\"Cook!\\\")\\n    Morphs:      al-oqF / \" + spellout(\"aloqF\", morphSymbols, morphFST) + \"\\n    Translation: cook-IMP / \" + spellout(\"aloqF\", translateSymbols, translateFST) + \"\\n\")\n",
    "print(\"05. Input:       ala'kux (\\\"I want to cook\\\")\\n    Morphs:      al-a'kux / \" + spellout(\"ala'kux\", morphSymbols, morphFST) + \"\\n    Translation: cook-DESIDERATIVE / \" + spellout(\"ala'kux\", translateSymbols, translateFST) + \"\\n\")\n",
    "print(\"15. Input:       aliHr (\\\"It is being cooked\\\")\\n    Morphs:      al-iHr / \" + spellout(\"aliHr\", morphSymbols, morphFST) + \"\\n    Translation: cook-THEME.MID.IPFV / \" + spellout(\"aliHr\", translateSymbols, translateFST) + \"\\n\")\n",
    "print(\"16. Input:       aliHnex (\\\"It became cooked\\\")\\n    Morphs:      al-iHn-ex / \" + spellout(\"aliHnex\", morphSymbols, morphFST) + \"\\n    Translation: cook-THEME.MID-PFV.IMPROSP / \" + spellout(\"aliHnex\", translateSymbols, translateFST) + \"\\n\")\n",
    "print(\"17. Input:       aliHnuxk (\\\"to be cooked\\\")\\n    Morphs:      al-iHn-uxk / \" + spellout(\"aliHnuxk\", morphSymbols, morphFST) + \"\\n    Translation: cook-THEME.MID-INF / \" + spellout(\"aliHnuxk\", translateSymbols, translateFST) + \"\\n\")\n",
    "\n",
    "print(\"03. Input:       tsakoqFk (\\\"to pop (a bubble), to puncture an object\\\")\\n    Morphs:      tsak-oqFk / \" + spellout(\"tsakoqFk\", morphSymbols, morphFST) + \"\\n    Translation: pop-INF / \" + spellout(\"tsakoqFk\", translateSymbols, translateFST) + \"\\n\")\n",
    "print(\"03. Input:       bioqFk (\\\"to dig, to make a hole in the ground\\\")\\n    Morphs:      bi-oqFk / \" + spellout(\"bioqFk\", morphSymbols, morphFST) + \"\\n    Translation: dig-INF / \" + spellout(\"bioqFk\", translateSymbols, translateFST) + \"\\n\")"
   ]
  }
 ],
 "metadata": {
  "colab": {
   "provenance": []
  },
  "kernelspec": {
   "display_name": "Python 3 (ipykernel)",
   "language": "python",
   "name": "python3"
  },
  "language_info": {
   "codemirror_mode": {
    "name": "ipython",
    "version": 3
   },
   "file_extension": ".py",
   "mimetype": "text/x-python",
   "name": "python",
   "nbconvert_exporter": "python",
   "pygments_lexer": "ipython3",
   "version": "3.9.1"
  }
 },
 "nbformat": 4,
 "nbformat_minor": 4
}
