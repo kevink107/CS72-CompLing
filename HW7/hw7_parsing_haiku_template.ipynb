{
  "nbformat": 4,
  "nbformat_minor": 0,
  "metadata": {
    "colab": {
      "provenance": []
    },
    "kernelspec": {
      "name": "python3",
      "display_name": "Python 3"
    },
    "language_info": {
      "name": "python"
    }
  },
  "cells": [
    {
      "cell_type": "markdown",
      "metadata": {
        "id": "ln9uhOatAXwE"
      },
      "source": [
        "#Template for Exercise 7.3: Haikus in English, created using a CFG\n",
        "Dartmouth College, LING48, Spring 2023<br>\n",
        "Rolando Coto-Solano (Rolando.A.Coto.Solano@dartmouth.edu)"
      ]
    },
    {
      "cell_type": "code",
      "metadata": {
        "id": "wXmp7_0y-wCR"
      },
      "source": [
        "from nltk import CFG\n",
        "from nltk.parse.generate import generate"
      ],
      "execution_count": null,
      "outputs": []
    },
    {
      "cell_type": "code",
      "metadata": {
        "id": "GyBsL0lbAgOj"
      },
      "source": [
        "cfgGrammarHaiku = CFG.fromstring(\"\"\"\n",
        "\t\n",
        "\tS -> SOMETHING1 BREAK SOMETHING2 BREAK SOMETHING3\n",
        "    \n",
        "  SOMETHING1 -> \"Write\"\n",
        "  SOMETHING2 -> \"a\"\n",
        "  SOMETHING3 -> \"haiku\"\n",
        "\t\n",
        "\tBREAK -> \"|\"\n",
        "\t\n",
        " \"\"\")"
      ],
      "execution_count": null,
      "outputs": []
    },
    {
      "cell_type": "code",
      "metadata": {
        "id": "9L6ggNs3AhRd"
      },
      "source": [
        "counter = 0\n",
        "for sentence in generate(cfgGrammarHaiku):\n",
        "\tcounter = counter + 1\n",
        "\tprint(' '.join(sentence))\n",
        "\t\n",
        "print(\"\\nSo far we have generated \" + str(counter) + \" sentences.\")"
      ],
      "execution_count": null,
      "outputs": []
    }
  ]
}