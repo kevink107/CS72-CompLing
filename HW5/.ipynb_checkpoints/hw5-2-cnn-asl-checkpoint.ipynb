{
  "nbformat": 4,
  "nbformat_minor": 0,
  "metadata": {
    "colab": {
      "provenance": []
    },
    "kernelspec": {
      "name": "python3",
      "display_name": "Python 3"
    },
    "language_info": {
      "name": "python"
    }
  },
  "cells": [
    {
      "cell_type": "markdown",
      "metadata": {
        "id": "8iTgWVTbO3B1"
      },
      "source": [
        "# Examples for Homework 5.2: Convolutional Neural Networks and ASL\n",
        "Dartmouth College, LING48/CS72, Spring 2023<br>\n",
        "Rolando Coto-Solano (Rolando.A.Coto.Solano@dartmouth.edu)\n",
        "\n",
        "A convolutional neural network (ConvNet/CNN) is optimized to understand visual data. This code in particular comes from this URL:\n",
        "https://github.com/samurainote/CNN_for_Sign_Language_Images/blob/master/CNN_for_Sign_Language_Images.ipynb\n",
        "\n",
        "In this program, we used a CNN to learn 6 signs from ASL finger spelling (a way to import words from other languages, such as English). The training set\n",
        "has information for approximately 1100 different pictures for each sign.\n",
        "The information is presented as the black-and-white pixel values for 784\n",
        "pixels (28*28). The training set also contains the gold labels for each\n",
        "picture (a=0, b=1, c=2, d=3, e=4, f=5). The testing set has information\n",
        "for 2063 pictures for each ASL sign. (331 'a', 432 'b', 310 'c', 245 'd',\n",
        "498 'e' and 247 'f'. It uses the same format as the training set. The\n",
        "original information (with pictures for all the ASL signs) comes from here:\n",
        "https://www.kaggle.com/datamunge/sign-language-mnist\n",
        " \n",
        "There are many good sites where you can learn the intuitions behind convolutional networks. These are some examples:\n",
        "\n",
        "(1) https://www.cs.ryerson.ca/~aharley/vis/conv/<br>\n",
        "(2) https://ujjwalkarn.me/2016/08/11/intuitive-explanation-convnets/<br>\n",
        "(3) https://www.youtube.com/watch?v=iaSUYvmCekI<br>\n",
        "(4) https://adeshpande3.github.io/A-Beginner%27s-Guide-To-Understanding-Convolutional-Neural-Networks/<br>\n",
        "(5) https://www.freecodecamp.org/news/an-intuitive-guide-to-convolutional-neural-networks-260c2de0a050/\n",
        "\n",
        "You need to perform three tasks:\n",
        "\n",
        "(1) (1)\tStudy the links above and explain the code in the section *Convolutional Neural Network Structure* below. What are the elements of this network? What kind of layers does it have? What is a kernel? What is a filter? What is pooling? Explain all of these as simply and plainly as you can.\n",
        "\n",
        "(2) Run the program. Right now it's set to perform one epoch of training. How is the network behaving after one epoch of training? (Report this based on the accuracy, the precision and the recall for each of the letters).\n",
        "\n",
        "(3) Change the program so that it runs five epochs. How is the network behaving after five epochs of training? How have the values of accuracy, precision and recall changed for the ASL fingerspell letters?"
      ]
    },
    {
      "cell_type": "code",
      "metadata": {
        "id": "lDk0g5kQGDOZ"
      },
      "source": [
        "import numpy as np\n",
        "import pandas as pd\n",
        "import matplotlib.pyplot as plt\n",
        "import gdown\n",
        "\n",
        "from tensorflow import keras\n",
        "from keras.models import Sequential\n",
        "from keras.layers import Dense, Conv2D, MaxPooling2D, Flatten, Dropout\n",
        "from sklearn.metrics import confusion_matrix"
      ],
      "execution_count": null,
      "outputs": []
    },
    {
      "cell_type": "code",
      "metadata": {
        "id": "UJCDRaHpGVl7"
      },
      "source": [
        "# Download ASL data\n",
        "\n",
        "url = \"https://drive.google.com/uc?id=19AGBPZdufJbwB8JOs9Ej0MXiwy_m-j-Q\"\n",
        "output = 'sign-test-a-f.csv'\n",
        "gdown.download(url, output, quiet=False)\n",
        "\n",
        "url = \"https://drive.google.com/uc?id=1BYZCq6JqHUxuXHA4udF_iZHwXBNqvNuA\"\n",
        "output = 'sign-train-a-f.csv'\n",
        "gdown.download(url, output, quiet=False)"
      ],
      "execution_count": null,
      "outputs": []
    },
    {
      "cell_type": "code",
      "metadata": {
        "id": "IJTj6kVAGKyx"
      },
      "source": [
        "# Load ASL data\n",
        "train = pd.read_csv(\"sign-train-a-f.csv\")\n",
        "test = pd.read_csv(\"sign-test-a-f.csv\")"
      ],
      "execution_count": null,
      "outputs": []
    },
    {
      "cell_type": "code",
      "metadata": {
        "id": "UW_YH9oWG-6o"
      },
      "source": [
        "# Split the samples into a training and a test set\n",
        "\n",
        "totalSamplesTraining = len(train)\n",
        "totalSamplesTesting  = len(test)\n",
        "\n",
        "train_T = train[\"label\"]\n",
        "train.drop(\"label\", axis=1, inplace=True)\n",
        "\n",
        "classes = len(train_T.unique())\n",
        "classes\n",
        "\n",
        "test_T = test[\"label\"]\n",
        "test.drop(\"label\", axis=1, inplace=True)"
      ],
      "execution_count": null,
      "outputs": []
    },
    {
      "cell_type": "markdown",
      "metadata": {
        "id": "vBOZtzOxPmRw"
      },
      "source": [
        "# Convolutional Neural Network Structure"
      ]
    },
    {
      "cell_type": "code",
      "metadata": {
        "id": "QgogYM18HFWo"
      },
      "source": [
        "# Convolutional Neural Network Structure\n",
        "model = Sequential()\n",
        "model.add(Conv2D(filters=32, kernel_size=(3, 3), activation=\"relu\", input_shape=(28,28,1)))\n",
        "model.add(MaxPooling2D(pool_size=(2, 2)))\n",
        "model.add(Conv2D(filters=64, kernel_size=(3, 3), activation=\"relu\"))\n",
        "model.add(MaxPooling2D(pool_size=(2, 2)))\n",
        "model.add(Conv2D(filters=64, kernel_size=(3, 3), activation=\"relu\"))\n",
        "model.add(MaxPooling2D(pool_size=(2, 2)))\n",
        "model.add(Flatten())\n",
        "model.add(Dense(units=128, activation=\"relu\"))\n",
        "model.add(Dropout(rate=0.2))\n",
        "model.add(Dense(units=classes, activation=\"softmax\"))"
      ],
      "execution_count": null,
      "outputs": []
    },
    {
      "cell_type": "code",
      "metadata": {
        "id": "OK5l5uiXHJMo"
      },
      "source": [
        "# Compile the model\n",
        "model.compile(optimizer=keras.optimizers.Adam(),\n",
        "              loss=\"categorical_crossentropy\",\n",
        "              metrics=['accuracy'])\n",
        "\t\t\t  \n",
        "# Reshape data to turn the string of numbers\n",
        "# into a two-dimensional structure.\n",
        "\n",
        "from sklearn.preprocessing import LabelBinarizer\n",
        "label_binarizer = LabelBinarizer()\n",
        "train_labels = label_binarizer.fit_transform(train_T)\n",
        "print(\"=== train labels ===\")\n",
        "print(train_labels)\n",
        "\n",
        "test_labels = label_binarizer.fit_transform(test_T)\n",
        "x_train = train.values.reshape(totalSamplesTraining,28,28,1)\n",
        "y_train = train_labels.reshape(totalSamplesTraining, classes)\n",
        "x_test = test.values.reshape(totalSamplesTesting,28,28,1)\n",
        "y_test = test_labels.reshape(totalSamplesTesting, classes)"
      ],
      "execution_count": null,
      "outputs": []
    },
    {
      "cell_type": "code",
      "metadata": {
        "id": "oUQKjY_DF9Bv"
      },
      "source": [
        "# Train the model\n",
        "\n",
        "from sklearn.model_selection import train_test_split\n",
        "x_train, x_val, y_train, y_val = train_test_split(x_train, y_train, test_size = 0.2)\n",
        "\n",
        "BATCH_SIZE = 64\n",
        "EPOCHS = 1\n",
        "\n",
        "history = model.fit(x_train, y_train, validation_data=(x_val, y_val), epochs=EPOCHS, batch_size=BATCH_SIZE)\n",
        "model.evaluate(x=x_test, y=y_test, verbose=1)\n",
        "\n",
        "from sklearn.metrics import classification_report\n",
        "\n",
        "y_pred = model.predict(x_test)\n",
        "print(classification_report(y_test.round(), y_pred.round()))"
      ],
      "execution_count": null,
      "outputs": []
    },
    {
      "cell_type": "code",
      "metadata": {
        "id": "myb0YO5mjkhd"
      },
      "source": [
        "argMaxYTest = np.argmax(y_test, axis=1)\n",
        "argMaxYPred = np.argmax(y_pred, axis=1)\n",
        "\n",
        "print(confusion_matrix(argMaxYTest, argMaxYPred))"
      ],
      "execution_count": null,
      "outputs": []
    }
  ]
}